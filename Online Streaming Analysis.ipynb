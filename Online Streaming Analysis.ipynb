{
 "cells": [
  {
   "cell_type": "markdown",
   "metadata": {},
   "source": [
    "# Comparison of content between Netflix, Amazon Prime, Disney+ and HBO Max\n",
    "## 1. Introduction\n",
    "The online streaming domain has been heating up with the entry of Disney+, Apple, HBO Max. However, Netflix remains the biggest player in the market with Amazon Prime Video trailing behind it. \n",
    "\n",
    "In this project I have compared the content between Amazon, Dinsey+, HBO Max and Netflix to gather insights into this online streaming war. The main questions that I am interested in are- <br>\n",
    "1) Which online streaming platform has more content and how is it split between movies and TV shows? <br>\n",
    "2) Does a particular streaming platform have more high quality content comapred to others? <br>\n",
    "3) In which genres is Netflix creating more original content? And how does it vary over years? <br>\n",
    "4) Which genres are the most popular among Netflix, Amaozn and Disney+? <br>\n",
    "5) Which streaming platform has the latest content? <br>\n",
    "6) "
   ]
  },
  {
   "cell_type": "code",
   "execution_count": 1,
   "metadata": {},
   "outputs": [],
   "source": [
    "import requests\n",
    "import pandas as pd\n",
    "import numpy as np\n",
    "import matplotlib.pyplot as plt\n",
    "from bs4 import BeautifulSoup\n",
    "import seaborn as sns\n",
    "import json\n",
    "import time\n",
    "import re"
   ]
  },
  {
   "cell_type": "markdown",
   "metadata": {},
   "source": [
    "## 2. Data Gathering\n",
    "The catalog for both Amazon Prime Video and Netflix have been scraped from reelgood.com which is an online streaming aggregator and helps one watch all the online content in one place. <br>\n",
    "The genre of the TV shows and movies have been scraped from Finder.com which is a service used for comparing products such as cred cards, martgages."
   ]
  },
  {
   "cell_type": "markdown",
   "metadata": {},
   "source": [
    "### 2.1 Gathering from reelgood.com"
   ]
  },
  {
   "cell_type": "code",
   "execution_count": 2,
   "metadata": {},
   "outputs": [],
   "source": [
    "# Extracting the content from reelgood.com using Beautiful Soup\n",
    "\n",
    "def reel_good_scraping(total_content,url_base):\n",
    "    \"\"\" Extracting the content from reelgood.com using Beautiful Soup\n",
    "    Input: total number of pages that has the content (int) and base URL\n",
    "    Output: Pandas Dataframe\"\"\"\n",
    "    \n",
    "    start= time.time()\n",
    "\n",
    "    for page in range(0,total_content,50): # List of all the pages in the website\n",
    "\n",
    "        print(page, end=',') # for telling the status of the current iteration\n",
    "\n",
    "        time.sleep(np.random.randint(5,25))\n",
    "\n",
    "        try:\n",
    "\n",
    "            # URL for the reelgood website\n",
    "            url = url_base +str(page)\n",
    "\n",
    "            # Extracting the HTML elements with Beautiful soup\n",
    "            response= requests.get(url)\n",
    "            soup = BeautifulSoup(response.content, 'html.parser' )\n",
    "\n",
    "            # Finding the number of titles in the extracted page\n",
    "            page_length= len(soup.find_all('td', class_=\"css-1u7zfla e126mwsw1\"))\n",
    "\n",
    "            # Initiating empty lists to make the dataframe\n",
    "            title= []\n",
    "            year = []\n",
    "            age_group= []\n",
    "            imdb= []\n",
    "            rt=[]\n",
    "\n",
    "            for i in range(page_length):\n",
    "                # extracting the title from the soup element\n",
    "                title.append(soup.find_all('td', class_=\"css-1u7zfla e126mwsw1\")[i].find('a').contents[0])\n",
    "\n",
    "                # extracting the year information from the soup element\n",
    "                year.append(soup.find_all('td', class_=\"css-1u11l3y\")[4*i].contents[0])\n",
    "\n",
    "                # extracting the age group detail from the soup element\n",
    "                age_group.append(soup.find_all('td', class_=\"css-1u11l3y\")[4*i+1].contents[0])\n",
    "\n",
    "                # extracting the imdb rating from the soup element\n",
    "                imdb.append(soup.find_all('td', class_=\"css-1u11l3y\")[4*i+2].contents[0])\n",
    "\n",
    "                # extracting the rotten tomatoes rating from the soup element\n",
    "                rt.append(soup.find_all('td', class_=\"css-1u11l3y\")[4*i+3].contents[0])\n",
    "\n",
    "                # forming a dataframe for each iteration\n",
    "                df_temp = pd.DataFrame({'title':title,'year':year,'age_group':age_group, 'imdb':imdb,'rotten_tomato':rt} )\n",
    "\n",
    "            if page==0:\n",
    "                df = df_temp\n",
    "\n",
    "            else:\n",
    "                df = pd.concat([df, df_temp]) # appending the dataframe for each iteration\n",
    "\n",
    "        except:\n",
    "            print('Error on page:',page)\n",
    "            continue\n",
    "\n",
    "    end= time.time()\n",
    "     \n",
    "    print(round(end-start,0),'s')\n",
    "    \n",
    "    return df"
   ]
  },
  {
   "cell_type": "code",
   "execution_count": 3,
   "metadata": {},
   "outputs": [],
   "source": [
    "# # exporting the netflix content\n",
    "# df= reel_good_scraping(5801,'https://reelgood.com/source/netflix?offset=')\n",
    "\n",
    "# #Exporting the data to local hard drive\n",
    "# df.to_csv(r'C:\\Users\\srini\\Projects\\Online Streaming\\netflix_shows.csv', index=False)"
   ]
  },
  {
   "cell_type": "code",
   "execution_count": 4,
   "metadata": {},
   "outputs": [],
   "source": [
    "# # exporting the Prime Video content\n",
    "# df= reel_good_scraping(15651,'https://reelgood.com/source/amazon?offset=')\n",
    "\n",
    "# #Exporting the data to local hard drive\n",
    "# df.to_csv(r'C:\\Users\\srini\\Projects\\Online Streaming\\amazon.csv', index=False)"
   ]
  },
  {
   "cell_type": "code",
   "execution_count": 5,
   "metadata": {},
   "outputs": [],
   "source": [
    "# # exporting the Dinsey Plus content\n",
    "# df= reel_good_scraping(801,'https://reelgood.com/source/disney_plus?offset=')\n",
    "\n",
    "# #Exporting the data to local hard drive\n",
    "# df.to_csv(r'C:\\Users\\srini\\Projects\\Online Streaming\\disney_plus.csv', index=False)"
   ]
  },
  {
   "cell_type": "code",
   "execution_count": 6,
   "metadata": {},
   "outputs": [],
   "source": [
    "# # exporting the HBO Max content\n",
    "# df= reel_good_scraping(2001,'https://reelgood.com/source/hbo_max?offset=')\n",
    "\n",
    "# #Exporting the data to local hard drive\n",
    "# df.to_csv(r'C:\\Users\\srini\\Projects\\Online Streaming\\hbo_max.csv', index=False)"
   ]
  },
  {
   "cell_type": "code",
   "execution_count": 7,
   "metadata": {},
   "outputs": [],
   "source": [
    "# # exporting the Hulu content\n",
    "# df= reel_good_scraping(2801,'https://reelgood.com/source/hulu?offset=')\n",
    "\n",
    "# #Exporting the data to local hard drive\n",
    "# df.to_csv(r'C:\\Users\\srini\\Projects\\Online Streaming\\hulu.csv', index=False)"
   ]
  },
  {
   "cell_type": "markdown",
   "metadata": {},
   "source": [
    "### 2.2 Gathering from finder.com"
   ]
  },
  {
   "cell_type": "code",
   "execution_count": 8,
   "metadata": {},
   "outputs": [],
   "source": [
    "#Returns the movie/tv show genre and other details from finder.com\n",
    "\n",
    "def genre_extract(url):\n",
    "    \"\"\" Returns the movie/tv show genre and other details from finder.com\n",
    "    args- url of finder.com\n",
    "    output: dataframe with the movie/tv show information\"\"\"\n",
    "    response= requests.get(url)\n",
    "    return pd.read_html(response.content)[0]"
   ]
  },
  {
   "cell_type": "code",
   "execution_count": 9,
   "metadata": {},
   "outputs": [],
   "source": [
    "# Extracting information for Netflix TV shows\n",
    "df_netflix_tv= genre_extract('https://www.finder.com/netflix-tv-shows')\n",
    "\n",
    "# Extracting information for Netflix movies\n",
    "df_netflix_movie = genre_extract('https://www.finder.com/netflix-movies')\n",
    "\n",
    "# Extracting information for Amazon Movies\n",
    "df_amazon_movie = genre_extract('https://www.finder.com/amazon-prime-movies')\n",
    "\n",
    "# Extracting information for Amazon TV shows\n",
    "df_amazon_tv = genre_extract('https://www.finder.com/amazon-prime-tv-shows')"
   ]
  },
  {
   "cell_type": "code",
   "execution_count": 10,
   "metadata": {},
   "outputs": [],
   "source": [
    "# Extracting information for Disney+ shows\n",
    "df_disney_shows = genre_extract('https://www.finder.com/complete-list-disney-plus-movies-tv-shows-exclusives')"
   ]
  },
  {
   "cell_type": "markdown",
   "metadata": {},
   "source": [
    "### 2.3 Gathering from Wikipedia"
   ]
  },
  {
   "cell_type": "code",
   "execution_count": 11,
   "metadata": {},
   "outputs": [],
   "source": [
    "url_wiki= 'https://en.wikipedia.org/wiki/List_of_original_programs_distributed_by_Amazon'\n",
    "\n",
    "response= requests.get(url_wiki)"
   ]
  },
  {
   "cell_type": "code",
   "execution_count": 12,
   "metadata": {},
   "outputs": [
    {
     "data": {
      "text/plain": [
       "(291, 13)"
      ]
     },
     "execution_count": 12,
     "metadata": {},
     "output_type": "execute_result"
    }
   ],
   "source": [
    "# Extracting the Amazon Original Content from Wiki\n",
    "\n",
    "for i in range(1,23):\n",
    "    \n",
    "    if i==1:\n",
    "        df_prime_wiki= pd.read_html(response.content)[i]\n",
    "    else:\n",
    "        df_prime_wiki = pd.concat([df_prime_wiki,pd.read_html(response.content)[i]], sort= False)\n",
    "    \n",
    "df_prime_wiki.shape"
   ]
  },
  {
   "cell_type": "code",
   "execution_count": 13,
   "metadata": {},
   "outputs": [
    {
     "data": {
      "text/html": [
       "<div>\n",
       "<style scoped>\n",
       "    .dataframe tbody tr th:only-of-type {\n",
       "        vertical-align: middle;\n",
       "    }\n",
       "\n",
       "    .dataframe tbody tr th {\n",
       "        vertical-align: top;\n",
       "    }\n",
       "\n",
       "    .dataframe thead th {\n",
       "        text-align: right;\n",
       "    }\n",
       "</style>\n",
       "<table border=\"1\" class=\"dataframe\">\n",
       "  <thead>\n",
       "    <tr style=\"text-align: right;\">\n",
       "      <th></th>\n",
       "      <th>Title</th>\n",
       "      <th>Genre</th>\n",
       "      <th>Premiere</th>\n",
       "      <th>Seasons/episodes</th>\n",
       "      <th>Status</th>\n",
       "      <th>Partner</th>\n",
       "      <th>Previous channel</th>\n",
       "      <th>Prime Video exclusive region</th>\n",
       "      <th>Language</th>\n",
       "      <th>Unnamed: 6</th>\n",
       "      <th>Unnamed: 7</th>\n",
       "      <th>Seasons</th>\n",
       "      <th>Previous channel(s)</th>\n",
       "    </tr>\n",
       "  </thead>\n",
       "  <tbody>\n",
       "    <tr>\n",
       "      <td>0</td>\n",
       "      <td>Bosch</td>\n",
       "      <td>Detective fiction</td>\n",
       "      <td>February 13, 2015</td>\n",
       "      <td>6 seasons, 60 episodes</td>\n",
       "      <td>Renewed for final season[2]</td>\n",
       "      <td>NaN</td>\n",
       "      <td>NaN</td>\n",
       "      <td>NaN</td>\n",
       "      <td>NaN</td>\n",
       "      <td>NaN</td>\n",
       "      <td>NaN</td>\n",
       "      <td>NaN</td>\n",
       "      <td>NaN</td>\n",
       "    </tr>\n",
       "    <tr>\n",
       "      <td>1</td>\n",
       "      <td>Hand of God</td>\n",
       "      <td>Psychological thriller</td>\n",
       "      <td>September 4, 2015</td>\n",
       "      <td>2 seasons, 20 episodes</td>\n",
       "      <td>Ended[3]</td>\n",
       "      <td>NaN</td>\n",
       "      <td>NaN</td>\n",
       "      <td>NaN</td>\n",
       "      <td>NaN</td>\n",
       "      <td>NaN</td>\n",
       "      <td>NaN</td>\n",
       "      <td>NaN</td>\n",
       "      <td>NaN</td>\n",
       "    </tr>\n",
       "  </tbody>\n",
       "</table>\n",
       "</div>"
      ],
      "text/plain": [
       "         Title                   Genre           Premiere  \\\n",
       "0        Bosch       Detective fiction  February 13, 2015   \n",
       "1  Hand of God  Psychological thriller  September 4, 2015   \n",
       "\n",
       "         Seasons/episodes                       Status Partner  \\\n",
       "0  6 seasons, 60 episodes  Renewed for final season[2]     NaN   \n",
       "1  2 seasons, 20 episodes                     Ended[3]     NaN   \n",
       "\n",
       "  Previous channel Prime Video exclusive region Language Unnamed: 6  \\\n",
       "0              NaN                          NaN      NaN        NaN   \n",
       "1              NaN                          NaN      NaN        NaN   \n",
       "\n",
       "  Unnamed: 7 Seasons Previous channel(s)  \n",
       "0        NaN     NaN                 NaN  \n",
       "1        NaN     NaN                 NaN  "
      ]
     },
     "execution_count": 13,
     "metadata": {},
     "output_type": "execute_result"
    }
   ],
   "source": [
    "# Exporting content to local drive\n",
    "df_prime_wiki.to_csv(r'C:\\Users\\srini\\Projects\\Online Streaming\\prime_original.csv')\n",
    "\n",
    "#df_prime_wiki= df_prime_wiki[['Title','Language']]\n",
    "df_prime_wiki.head(2)"
   ]
  },
  {
   "cell_type": "markdown",
   "metadata": {},
   "source": [
    "## 3. Data Wrangling\n",
    "### 3.1 Merging dataframes\n",
    "Combining Netflix and Amazon into a common dataframe to help with analysis"
   ]
  },
  {
   "cell_type": "code",
   "execution_count": 14,
   "metadata": {},
   "outputs": [],
   "source": [
    "# Retriving the data from local hard drive\n",
    "df_netflix= pd.read_csv(r'C:\\Users\\srini\\Projects\\Online Streaming\\netflix_shows.csv')\n",
    "df_amazon= pd.read_csv(r'C:\\Users\\srini\\Projects\\Online Streaming\\amazon.csv')\n",
    "df_disney = pd.read_csv(r'C:\\Users\\srini\\Projects\\Online Streaming\\disney_plus.csv')\n",
    "df_hbo= pd.read_csv(r'C:\\Users\\srini\\Projects\\Online Streaming\\hbo_max.csv')"
   ]
  },
  {
   "cell_type": "code",
   "execution_count": 15,
   "metadata": {},
   "outputs": [
    {
     "data": {
      "text/html": [
       "<div>\n",
       "<style scoped>\n",
       "    .dataframe tbody tr th:only-of-type {\n",
       "        vertical-align: middle;\n",
       "    }\n",
       "\n",
       "    .dataframe tbody tr th {\n",
       "        vertical-align: top;\n",
       "    }\n",
       "\n",
       "    .dataframe thead th {\n",
       "        text-align: right;\n",
       "    }\n",
       "</style>\n",
       "<table border=\"1\" class=\"dataframe\">\n",
       "  <thead>\n",
       "    <tr style=\"text-align: right;\">\n",
       "      <th></th>\n",
       "      <th>title</th>\n",
       "      <th>year</th>\n",
       "      <th>age_group</th>\n",
       "      <th>imdb</th>\n",
       "      <th>rotten_tomato</th>\n",
       "    </tr>\n",
       "  </thead>\n",
       "  <tbody>\n",
       "    <tr>\n",
       "      <td>0</td>\n",
       "      <td>Breaking Bad</td>\n",
       "      <td>2008</td>\n",
       "      <td>18+</td>\n",
       "      <td>9.5</td>\n",
       "      <td>96%</td>\n",
       "    </tr>\n",
       "    <tr>\n",
       "      <td>1</td>\n",
       "      <td>Inception</td>\n",
       "      <td>2010</td>\n",
       "      <td>13+</td>\n",
       "      <td>8.8</td>\n",
       "      <td>87%</td>\n",
       "    </tr>\n",
       "    <tr>\n",
       "      <td>2</td>\n",
       "      <td>Back to the Future</td>\n",
       "      <td>1985</td>\n",
       "      <td>7+</td>\n",
       "      <td>8.5</td>\n",
       "      <td>96%</td>\n",
       "    </tr>\n",
       "    <tr>\n",
       "      <td>3</td>\n",
       "      <td>The Matrix</td>\n",
       "      <td>1999</td>\n",
       "      <td>18+</td>\n",
       "      <td>8.7</td>\n",
       "      <td>88%</td>\n",
       "    </tr>\n",
       "    <tr>\n",
       "      <td>4</td>\n",
       "      <td>The Silence of the Lambs</td>\n",
       "      <td>1991</td>\n",
       "      <td>18+</td>\n",
       "      <td>8.6</td>\n",
       "      <td>96%</td>\n",
       "    </tr>\n",
       "  </tbody>\n",
       "</table>\n",
       "</div>"
      ],
      "text/plain": [
       "                      title  year age_group  imdb rotten_tomato\n",
       "0              Breaking Bad  2008       18+   9.5           96%\n",
       "1                 Inception  2010       13+   8.8           87%\n",
       "2        Back to the Future  1985        7+   8.5           96%\n",
       "3                The Matrix  1999       18+   8.7           88%\n",
       "4  The Silence of the Lambs  1991       18+   8.6           96%"
      ]
     },
     "execution_count": 15,
     "metadata": {},
     "output_type": "execute_result"
    }
   ],
   "source": [
    "df_netflix.head()"
   ]
  },
  {
   "cell_type": "code",
   "execution_count": 16,
   "metadata": {},
   "outputs": [],
   "source": [
    "# Adding a column to indicate the streaming platform\n",
    "df_netflix['streaming']= 'Netflix'\n",
    "df_amazon['streaming']= 'Amazon'\n",
    "df_disney['streaming']= 'Disney+'\n",
    "df_hbo['streaming']= 'HBO'"
   ]
  },
  {
   "cell_type": "code",
   "execution_count": 17,
   "metadata": {},
   "outputs": [
    {
     "data": {
      "text/html": [
       "<div>\n",
       "<style scoped>\n",
       "    .dataframe tbody tr th:only-of-type {\n",
       "        vertical-align: middle;\n",
       "    }\n",
       "\n",
       "    .dataframe tbody tr th {\n",
       "        vertical-align: top;\n",
       "    }\n",
       "\n",
       "    .dataframe thead th {\n",
       "        text-align: right;\n",
       "    }\n",
       "</style>\n",
       "<table border=\"1\" class=\"dataframe\">\n",
       "  <thead>\n",
       "    <tr style=\"text-align: right;\">\n",
       "      <th></th>\n",
       "      <th>title</th>\n",
       "      <th>year</th>\n",
       "      <th>age_group</th>\n",
       "      <th>imdb</th>\n",
       "      <th>rotten_tomato</th>\n",
       "      <th>streaming</th>\n",
       "    </tr>\n",
       "  </thead>\n",
       "  <tbody>\n",
       "    <tr>\n",
       "      <td>0</td>\n",
       "      <td>The Silence of the Lambs</td>\n",
       "      <td>1991</td>\n",
       "      <td>18+</td>\n",
       "      <td>8.6</td>\n",
       "      <td>96%</td>\n",
       "      <td>Amazon</td>\n",
       "    </tr>\n",
       "    <tr>\n",
       "      <td>1</td>\n",
       "      <td>The Good, the Bad and the Ugly</td>\n",
       "      <td>1966</td>\n",
       "      <td>18+</td>\n",
       "      <td>8.8</td>\n",
       "      <td>97%</td>\n",
       "      <td>Amazon</td>\n",
       "    </tr>\n",
       "    <tr>\n",
       "      <td>2</td>\n",
       "      <td>The Pianist</td>\n",
       "      <td>2002</td>\n",
       "      <td>18+</td>\n",
       "      <td>8.5</td>\n",
       "      <td>95%</td>\n",
       "      <td>Amazon</td>\n",
       "    </tr>\n",
       "    <tr>\n",
       "      <td>3</td>\n",
       "      <td>The Avengers</td>\n",
       "      <td>2012</td>\n",
       "      <td>13+</td>\n",
       "      <td>8.0</td>\n",
       "      <td>92%</td>\n",
       "      <td>Amazon</td>\n",
       "    </tr>\n",
       "    <tr>\n",
       "      <td>4</td>\n",
       "      <td>Knives Out</td>\n",
       "      <td>2019</td>\n",
       "      <td>13+</td>\n",
       "      <td>7.9</td>\n",
       "      <td>97%</td>\n",
       "      <td>Amazon</td>\n",
       "    </tr>\n",
       "  </tbody>\n",
       "</table>\n",
       "</div>"
      ],
      "text/plain": [
       "                            title  year age_group  imdb rotten_tomato  \\\n",
       "0        The Silence of the Lambs  1991       18+   8.6           96%   \n",
       "1  The Good, the Bad and the Ugly  1966       18+   8.8           97%   \n",
       "2                     The Pianist  2002       18+   8.5           95%   \n",
       "3                    The Avengers  2012       13+   8.0           92%   \n",
       "4                      Knives Out  2019       13+   7.9           97%   \n",
       "\n",
       "  streaming  \n",
       "0    Amazon  \n",
       "1    Amazon  \n",
       "2    Amazon  \n",
       "3    Amazon  \n",
       "4    Amazon  "
      ]
     },
     "execution_count": 17,
     "metadata": {},
     "output_type": "execute_result"
    }
   ],
   "source": [
    "df_amazon.head()"
   ]
  },
  {
   "cell_type": "code",
   "execution_count": 18,
   "metadata": {},
   "outputs": [
    {
     "data": {
      "text/html": [
       "<div>\n",
       "<style scoped>\n",
       "    .dataframe tbody tr th:only-of-type {\n",
       "        vertical-align: middle;\n",
       "    }\n",
       "\n",
       "    .dataframe tbody tr th {\n",
       "        vertical-align: top;\n",
       "    }\n",
       "\n",
       "    .dataframe thead th {\n",
       "        text-align: right;\n",
       "    }\n",
       "</style>\n",
       "<table border=\"1\" class=\"dataframe\">\n",
       "  <thead>\n",
       "    <tr style=\"text-align: right;\">\n",
       "      <th></th>\n",
       "      <th>title</th>\n",
       "      <th>year</th>\n",
       "      <th>age_group</th>\n",
       "      <th>imdb</th>\n",
       "      <th>rotten_tomato</th>\n",
       "      <th>streaming</th>\n",
       "    </tr>\n",
       "  </thead>\n",
       "  <tbody>\n",
       "    <tr>\n",
       "      <td>0</td>\n",
       "      <td>Breaking Bad</td>\n",
       "      <td>2008</td>\n",
       "      <td>18+</td>\n",
       "      <td>9.5</td>\n",
       "      <td>96%</td>\n",
       "      <td>Netflix</td>\n",
       "    </tr>\n",
       "    <tr>\n",
       "      <td>1</td>\n",
       "      <td>Inception</td>\n",
       "      <td>2010</td>\n",
       "      <td>13+</td>\n",
       "      <td>8.8</td>\n",
       "      <td>87%</td>\n",
       "      <td>Netflix</td>\n",
       "    </tr>\n",
       "    <tr>\n",
       "      <td>2</td>\n",
       "      <td>Back to the Future</td>\n",
       "      <td>1985</td>\n",
       "      <td>7+</td>\n",
       "      <td>8.5</td>\n",
       "      <td>96%</td>\n",
       "      <td>Netflix</td>\n",
       "    </tr>\n",
       "    <tr>\n",
       "      <td>3</td>\n",
       "      <td>The Matrix</td>\n",
       "      <td>1999</td>\n",
       "      <td>18+</td>\n",
       "      <td>8.7</td>\n",
       "      <td>88%</td>\n",
       "      <td>Netflix</td>\n",
       "    </tr>\n",
       "    <tr>\n",
       "      <td>4</td>\n",
       "      <td>The Silence of the Lambs</td>\n",
       "      <td>1991</td>\n",
       "      <td>18+</td>\n",
       "      <td>8.6</td>\n",
       "      <td>96%</td>\n",
       "      <td>Netflix</td>\n",
       "    </tr>\n",
       "  </tbody>\n",
       "</table>\n",
       "</div>"
      ],
      "text/plain": [
       "                      title  year age_group  imdb rotten_tomato streaming\n",
       "0              Breaking Bad  2008       18+   9.5           96%   Netflix\n",
       "1                 Inception  2010       13+   8.8           87%   Netflix\n",
       "2        Back to the Future  1985        7+   8.5           96%   Netflix\n",
       "3                The Matrix  1999       18+   8.7           88%   Netflix\n",
       "4  The Silence of the Lambs  1991       18+   8.6           96%   Netflix"
      ]
     },
     "execution_count": 18,
     "metadata": {},
     "output_type": "execute_result"
    }
   ],
   "source": [
    "# combining the dataframes\n",
    "df= pd.concat([df_netflix, df_amazon, df_disney, df_hbo], sort= False)\n",
    "df.head()"
   ]
  },
  {
   "cell_type": "code",
   "execution_count": 19,
   "metadata": {},
   "outputs": [
    {
     "data": {
      "text/plain": [
       "(24341, 6)"
      ]
     },
     "execution_count": 19,
     "metadata": {},
     "output_type": "execute_result"
    }
   ],
   "source": [
    "df.shape"
   ]
  },
  {
   "cell_type": "markdown",
   "metadata": {},
   "source": [
    "### 3.2 Finding duplicates\n"
   ]
  },
  {
   "cell_type": "code",
   "execution_count": 20,
   "metadata": {},
   "outputs": [
    {
     "data": {
      "text/plain": [
       "2"
      ]
     },
     "execution_count": 20,
     "metadata": {},
     "output_type": "execute_result"
    }
   ],
   "source": [
    "# finding duplicate values\n",
    "df.duplicated().sum()"
   ]
  },
  {
   "cell_type": "code",
   "execution_count": 21,
   "metadata": {},
   "outputs": [
    {
     "data": {
      "text/html": [
       "<div>\n",
       "<style scoped>\n",
       "    .dataframe tbody tr th:only-of-type {\n",
       "        vertical-align: middle;\n",
       "    }\n",
       "\n",
       "    .dataframe tbody tr th {\n",
       "        vertical-align: top;\n",
       "    }\n",
       "\n",
       "    .dataframe thead th {\n",
       "        text-align: right;\n",
       "    }\n",
       "</style>\n",
       "<table border=\"1\" class=\"dataframe\">\n",
       "  <thead>\n",
       "    <tr style=\"text-align: right;\">\n",
       "      <th></th>\n",
       "      <th>title</th>\n",
       "      <th>year</th>\n",
       "      <th>age_group</th>\n",
       "      <th>imdb</th>\n",
       "      <th>rotten_tomato</th>\n",
       "      <th>streaming</th>\n",
       "    </tr>\n",
       "  </thead>\n",
       "  <tbody>\n",
       "    <tr>\n",
       "      <td>3938</td>\n",
       "      <td>El día menos pensado</td>\n",
       "      <td>2020</td>\n",
       "      <td>NaN</td>\n",
       "      <td>7.3</td>\n",
       "      <td>NaN</td>\n",
       "      <td>Netflix</td>\n",
       "    </tr>\n",
       "    <tr>\n",
       "      <td>4612</td>\n",
       "      <td>Lucid Dream</td>\n",
       "      <td>2017</td>\n",
       "      <td>NaN</td>\n",
       "      <td>6.1</td>\n",
       "      <td>NaN</td>\n",
       "      <td>Netflix</td>\n",
       "    </tr>\n",
       "  </tbody>\n",
       "</table>\n",
       "</div>"
      ],
      "text/plain": [
       "                     title  year age_group  imdb rotten_tomato streaming\n",
       "3938  El día menos pensado  2020       NaN   7.3           NaN   Netflix\n",
       "4612           Lucid Dream  2017       NaN   6.1           NaN   Netflix"
      ]
     },
     "execution_count": 21,
     "metadata": {},
     "output_type": "execute_result"
    }
   ],
   "source": [
    "# finding duplicate values\n",
    "df[df.duplicated()]"
   ]
  },
  {
   "cell_type": "code",
   "execution_count": 22,
   "metadata": {},
   "outputs": [],
   "source": [
    "# removing the duplicate values\n",
    "df.drop_duplicates(inplace= True)"
   ]
  },
  {
   "cell_type": "code",
   "execution_count": 23,
   "metadata": {},
   "outputs": [
    {
     "data": {
      "text/plain": [
       "0"
      ]
     },
     "execution_count": 23,
     "metadata": {},
     "output_type": "execute_result"
    }
   ],
   "source": [
    "# Checking\n",
    "df.duplicated().sum()"
   ]
  },
  {
   "cell_type": "markdown",
   "metadata": {},
   "source": [
    "### 3.3 Resetting the index\n",
    "Since we concatenated 3 dataframes we need to remove the duplicate indices."
   ]
  },
  {
   "cell_type": "code",
   "execution_count": 24,
   "metadata": {},
   "outputs": [
    {
     "data": {
      "text/html": [
       "<div>\n",
       "<style scoped>\n",
       "    .dataframe tbody tr th:only-of-type {\n",
       "        vertical-align: middle;\n",
       "    }\n",
       "\n",
       "    .dataframe tbody tr th {\n",
       "        vertical-align: top;\n",
       "    }\n",
       "\n",
       "    .dataframe thead th {\n",
       "        text-align: right;\n",
       "    }\n",
       "</style>\n",
       "<table border=\"1\" class=\"dataframe\">\n",
       "  <thead>\n",
       "    <tr style=\"text-align: right;\">\n",
       "      <th></th>\n",
       "      <th>index</th>\n",
       "      <th>title</th>\n",
       "      <th>year</th>\n",
       "      <th>age_group</th>\n",
       "      <th>imdb</th>\n",
       "      <th>rotten_tomato</th>\n",
       "      <th>streaming</th>\n",
       "    </tr>\n",
       "  </thead>\n",
       "  <tbody>\n",
       "    <tr>\n",
       "      <td>0</td>\n",
       "      <td>0</td>\n",
       "      <td>Breaking Bad</td>\n",
       "      <td>2008</td>\n",
       "      <td>18+</td>\n",
       "      <td>9.5</td>\n",
       "      <td>96%</td>\n",
       "      <td>Netflix</td>\n",
       "    </tr>\n",
       "  </tbody>\n",
       "</table>\n",
       "</div>"
      ],
      "text/plain": [
       "   index         title  year age_group  imdb rotten_tomato streaming\n",
       "0      0  Breaking Bad  2008       18+   9.5           96%   Netflix"
      ]
     },
     "execution_count": 24,
     "metadata": {},
     "output_type": "execute_result"
    }
   ],
   "source": [
    "df.reset_index(inplace= True)\n",
    "df.head(1)"
   ]
  },
  {
   "cell_type": "code",
   "execution_count": 25,
   "metadata": {},
   "outputs": [
    {
     "data": {
      "text/html": [
       "<div>\n",
       "<style scoped>\n",
       "    .dataframe tbody tr th:only-of-type {\n",
       "        vertical-align: middle;\n",
       "    }\n",
       "\n",
       "    .dataframe tbody tr th {\n",
       "        vertical-align: top;\n",
       "    }\n",
       "\n",
       "    .dataframe thead th {\n",
       "        text-align: right;\n",
       "    }\n",
       "</style>\n",
       "<table border=\"1\" class=\"dataframe\">\n",
       "  <thead>\n",
       "    <tr style=\"text-align: right;\">\n",
       "      <th></th>\n",
       "      <th>title</th>\n",
       "      <th>year</th>\n",
       "      <th>age_group</th>\n",
       "      <th>imdb</th>\n",
       "      <th>rotten_tomato</th>\n",
       "      <th>streaming</th>\n",
       "    </tr>\n",
       "  </thead>\n",
       "  <tbody>\n",
       "    <tr>\n",
       "      <td>0</td>\n",
       "      <td>Breaking Bad</td>\n",
       "      <td>2008</td>\n",
       "      <td>18+</td>\n",
       "      <td>9.5</td>\n",
       "      <td>96%</td>\n",
       "      <td>Netflix</td>\n",
       "    </tr>\n",
       "  </tbody>\n",
       "</table>\n",
       "</div>"
      ],
      "text/plain": [
       "          title  year age_group  imdb rotten_tomato streaming\n",
       "0  Breaking Bad  2008       18+   9.5           96%   Netflix"
      ]
     },
     "execution_count": 25,
     "metadata": {},
     "output_type": "execute_result"
    }
   ],
   "source": [
    "df.drop(columns='index', inplace= True)\n",
    "df.head(1)"
   ]
  },
  {
   "cell_type": "markdown",
   "metadata": {},
   "source": [
    "### 3.4 Changing data type for  rotten tomatoes columns\n",
    "Changing the rotten tomatoes columns to float values."
   ]
  },
  {
   "cell_type": "code",
   "execution_count": 26,
   "metadata": {},
   "outputs": [],
   "source": [
    "def rt_float_extract(x):\n",
    "    \"\"\"Function to extract the digits from the Rotten Tomatoes column\n",
    "    Input: single rotten tomatoe rating value\n",
    "    Output: float value\"\"\"\n",
    "    try:\n",
    "        temp= float(x[:2])\n",
    "    except:\n",
    "        temp= np.nan\n",
    "    return temp"
   ]
  },
  {
   "cell_type": "code",
   "execution_count": 27,
   "metadata": {},
   "outputs": [],
   "source": [
    "# extracting the digits from the Rotten Tomatoes column\n",
    "df.rotten_tomato= df.rotten_tomato.apply(lambda x: rt_float_extract(x) )"
   ]
  },
  {
   "cell_type": "code",
   "execution_count": 28,
   "metadata": {},
   "outputs": [
    {
     "data": {
      "text/html": [
       "<div>\n",
       "<style scoped>\n",
       "    .dataframe tbody tr th:only-of-type {\n",
       "        vertical-align: middle;\n",
       "    }\n",
       "\n",
       "    .dataframe tbody tr th {\n",
       "        vertical-align: top;\n",
       "    }\n",
       "\n",
       "    .dataframe thead th {\n",
       "        text-align: right;\n",
       "    }\n",
       "</style>\n",
       "<table border=\"1\" class=\"dataframe\">\n",
       "  <thead>\n",
       "    <tr style=\"text-align: right;\">\n",
       "      <th></th>\n",
       "      <th>title</th>\n",
       "      <th>year</th>\n",
       "      <th>age_group</th>\n",
       "      <th>imdb</th>\n",
       "      <th>rotten_tomato</th>\n",
       "      <th>streaming</th>\n",
       "    </tr>\n",
       "  </thead>\n",
       "  <tbody>\n",
       "    <tr>\n",
       "      <td>0</td>\n",
       "      <td>Breaking Bad</td>\n",
       "      <td>2008</td>\n",
       "      <td>18+</td>\n",
       "      <td>9.5</td>\n",
       "      <td>96.0</td>\n",
       "      <td>Netflix</td>\n",
       "    </tr>\n",
       "    <tr>\n",
       "      <td>1</td>\n",
       "      <td>Inception</td>\n",
       "      <td>2010</td>\n",
       "      <td>13+</td>\n",
       "      <td>8.8</td>\n",
       "      <td>87.0</td>\n",
       "      <td>Netflix</td>\n",
       "    </tr>\n",
       "  </tbody>\n",
       "</table>\n",
       "</div>"
      ],
      "text/plain": [
       "          title  year age_group  imdb  rotten_tomato streaming\n",
       "0  Breaking Bad  2008       18+   9.5           96.0   Netflix\n",
       "1     Inception  2010       13+   8.8           87.0   Netflix"
      ]
     },
     "execution_count": 28,
     "metadata": {},
     "output_type": "execute_result"
    }
   ],
   "source": [
    "df.head(2)"
   ]
  },
  {
   "cell_type": "markdown",
   "metadata": {},
   "source": [
    "### 3.5 Cleaning Netflix data from finder.com\n",
    "- We need to extract the original content information from the Title. <br>\n",
    "- Dropping the 'Watch it' column from TV shows and movies dataframes. <br>\n",
    "- Clean the title information so that it doesnt have Season and Original info from TV show dataframe. <br>"
   ]
  },
  {
   "cell_type": "code",
   "execution_count": 29,
   "metadata": {},
   "outputs": [
    {
     "data": {
      "text/html": [
       "<div>\n",
       "<style scoped>\n",
       "    .dataframe tbody tr th:only-of-type {\n",
       "        vertical-align: middle;\n",
       "    }\n",
       "\n",
       "    .dataframe tbody tr th {\n",
       "        vertical-align: top;\n",
       "    }\n",
       "\n",
       "    .dataframe thead th {\n",
       "        text-align: right;\n",
       "    }\n",
       "</style>\n",
       "<table border=\"1\" class=\"dataframe\">\n",
       "  <thead>\n",
       "    <tr style=\"text-align: right;\">\n",
       "      <th></th>\n",
       "      <th>Title</th>\n",
       "      <th>Year of release</th>\n",
       "      <th>Runtime (mins)</th>\n",
       "      <th>Genres</th>\n",
       "      <th>Watch it</th>\n",
       "    </tr>\n",
       "  </thead>\n",
       "  <tbody>\n",
       "    <tr>\n",
       "      <td>0</td>\n",
       "      <td>#Rucker50</td>\n",
       "      <td>2016</td>\n",
       "      <td>56</td>\n",
       "      <td>Basketball Movies</td>\n",
       "      <td>Watch now</td>\n",
       "    </tr>\n",
       "    <tr>\n",
       "      <td>1</td>\n",
       "      <td>#Selfie</td>\n",
       "      <td>2014</td>\n",
       "      <td>125</td>\n",
       "      <td>Comedies</td>\n",
       "      <td>Watch now</td>\n",
       "    </tr>\n",
       "    <tr>\n",
       "      <td>2</td>\n",
       "      <td>#Selfie 69</td>\n",
       "      <td>2016</td>\n",
       "      <td>119</td>\n",
       "      <td>Comedies</td>\n",
       "      <td>Watch now</td>\n",
       "    </tr>\n",
       "    <tr>\n",
       "      <td>3</td>\n",
       "      <td>#cats_the_mewvie</td>\n",
       "      <td>2020</td>\n",
       "      <td>90</td>\n",
       "      <td>Canadian Movies</td>\n",
       "      <td>Watch now</td>\n",
       "    </tr>\n",
       "    <tr>\n",
       "      <td>4</td>\n",
       "      <td>#realityhighOriginal</td>\n",
       "      <td>2017</td>\n",
       "      <td>99</td>\n",
       "      <td>Comedies</td>\n",
       "      <td>Watch now</td>\n",
       "    </tr>\n",
       "  </tbody>\n",
       "</table>\n",
       "</div>"
      ],
      "text/plain": [
       "                  Title  Year of release  Runtime (mins)             Genres  \\\n",
       "0             #Rucker50             2016              56  Basketball Movies   \n",
       "1               #Selfie             2014             125           Comedies   \n",
       "2            #Selfie 69             2016             119           Comedies   \n",
       "3      #cats_the_mewvie             2020              90    Canadian Movies   \n",
       "4  #realityhighOriginal             2017              99           Comedies   \n",
       "\n",
       "    Watch it  \n",
       "0  Watch now  \n",
       "1  Watch now  \n",
       "2  Watch now  \n",
       "3  Watch now  \n",
       "4  Watch now  "
      ]
     },
     "execution_count": 29,
     "metadata": {},
     "output_type": "execute_result"
    }
   ],
   "source": [
    "df_netflix_movie.head()"
   ]
  },
  {
   "cell_type": "code",
   "execution_count": 30,
   "metadata": {},
   "outputs": [],
   "source": [
    "# Finding which title are Netflix original movies\n",
    "df_netflix_movie['original']= df_netflix_movie.Title.apply(lambda x:True if len(re.findall('[^\\s]Original',x))>0 else False)"
   ]
  },
  {
   "cell_type": "code",
   "execution_count": 31,
   "metadata": {},
   "outputs": [],
   "source": [
    "# Finding which title are Netflix original TV shows\n",
    "df_netflix_tv['original']= df_netflix_tv.Title.apply(lambda x:True if len(re.findall('[^\\s]Original',str(x)))>0 else False)"
   ]
  },
  {
   "cell_type": "code",
   "execution_count": 32,
   "metadata": {},
   "outputs": [
    {
     "data": {
      "text/html": [
       "<div>\n",
       "<style scoped>\n",
       "    .dataframe tbody tr th:only-of-type {\n",
       "        vertical-align: middle;\n",
       "    }\n",
       "\n",
       "    .dataframe tbody tr th {\n",
       "        vertical-align: top;\n",
       "    }\n",
       "\n",
       "    .dataframe thead th {\n",
       "        text-align: right;\n",
       "    }\n",
       "</style>\n",
       "<table border=\"1\" class=\"dataframe\">\n",
       "  <thead>\n",
       "    <tr style=\"text-align: right;\">\n",
       "      <th></th>\n",
       "      <th>Title</th>\n",
       "      <th>Year of release</th>\n",
       "      <th>Genres</th>\n",
       "      <th>original</th>\n",
       "    </tr>\n",
       "  </thead>\n",
       "  <tbody>\n",
       "    <tr>\n",
       "      <td>0</td>\n",
       "      <td>100 HumansOriginalSeason 1 (8 episodes)</td>\n",
       "      <td>2020</td>\n",
       "      <td>Science &amp; Nature Docs Social &amp; Cultural Docs D...</td>\n",
       "      <td>True</td>\n",
       "    </tr>\n",
       "  </tbody>\n",
       "</table>\n",
       "</div>"
      ],
      "text/plain": [
       "                                     Title  Year of release  \\\n",
       "0  100 HumansOriginalSeason 1 (8 episodes)             2020   \n",
       "\n",
       "                                              Genres  original  \n",
       "0  Science & Nature Docs Social & Cultural Docs D...      True  "
      ]
     },
     "execution_count": 32,
     "metadata": {},
     "output_type": "execute_result"
    }
   ],
   "source": [
    "# dropping the Watch it column\n",
    "df_netflix_tv.drop(columns='Watch it', inplace= True)\n",
    "df_netflix_tv.head(1)"
   ]
  },
  {
   "cell_type": "code",
   "execution_count": 33,
   "metadata": {},
   "outputs": [
    {
     "data": {
      "text/html": [
       "<div>\n",
       "<style scoped>\n",
       "    .dataframe tbody tr th:only-of-type {\n",
       "        vertical-align: middle;\n",
       "    }\n",
       "\n",
       "    .dataframe tbody tr th {\n",
       "        vertical-align: top;\n",
       "    }\n",
       "\n",
       "    .dataframe thead th {\n",
       "        text-align: right;\n",
       "    }\n",
       "</style>\n",
       "<table border=\"1\" class=\"dataframe\">\n",
       "  <thead>\n",
       "    <tr style=\"text-align: right;\">\n",
       "      <th></th>\n",
       "      <th>Title</th>\n",
       "      <th>Year of release</th>\n",
       "      <th>Runtime (mins)</th>\n",
       "      <th>Genres</th>\n",
       "      <th>original</th>\n",
       "    </tr>\n",
       "  </thead>\n",
       "  <tbody>\n",
       "    <tr>\n",
       "      <td>0</td>\n",
       "      <td>#Rucker50</td>\n",
       "      <td>2016</td>\n",
       "      <td>56</td>\n",
       "      <td>Basketball Movies</td>\n",
       "      <td>False</td>\n",
       "    </tr>\n",
       "  </tbody>\n",
       "</table>\n",
       "</div>"
      ],
      "text/plain": [
       "       Title  Year of release  Runtime (mins)             Genres  original\n",
       "0  #Rucker50             2016              56  Basketball Movies     False"
      ]
     },
     "execution_count": 33,
     "metadata": {},
     "output_type": "execute_result"
    }
   ],
   "source": [
    "# dropping the Watch it column\n",
    "df_netflix_movie.drop(columns='Watch it', inplace= True)\n",
    "df_netflix_movie.head(1)"
   ]
  },
  {
   "cell_type": "code",
   "execution_count": 34,
   "metadata": {},
   "outputs": [],
   "source": [
    "# Function to return the title of the TV show/ movie cleaning the Original and Season information\n",
    "def title_cleaning(x):\n",
    "    for i in ['Original','Season','Collection']:\n",
    "        if i in x:\n",
    "            return x.split(i)[0]"
   ]
  },
  {
   "cell_type": "code",
   "execution_count": 35,
   "metadata": {},
   "outputs": [
    {
     "data": {
      "text/html": [
       "<div>\n",
       "<style scoped>\n",
       "    .dataframe tbody tr th:only-of-type {\n",
       "        vertical-align: middle;\n",
       "    }\n",
       "\n",
       "    .dataframe tbody tr th {\n",
       "        vertical-align: top;\n",
       "    }\n",
       "\n",
       "    .dataframe thead th {\n",
       "        text-align: right;\n",
       "    }\n",
       "</style>\n",
       "<table border=\"1\" class=\"dataframe\">\n",
       "  <thead>\n",
       "    <tr style=\"text-align: right;\">\n",
       "      <th></th>\n",
       "      <th>Title</th>\n",
       "      <th>Year of release</th>\n",
       "      <th>Genres</th>\n",
       "      <th>original</th>\n",
       "    </tr>\n",
       "  </thead>\n",
       "  <tbody>\n",
       "    <tr>\n",
       "      <td>0</td>\n",
       "      <td>100 Humans</td>\n",
       "      <td>2020</td>\n",
       "      <td>Science &amp; Nature Docs Social &amp; Cultural Docs D...</td>\n",
       "      <td>True</td>\n",
       "    </tr>\n",
       "  </tbody>\n",
       "</table>\n",
       "</div>"
      ],
      "text/plain": [
       "        Title  Year of release  \\\n",
       "0  100 Humans             2020   \n",
       "\n",
       "                                              Genres  original  \n",
       "0  Science & Nature Docs Social & Cultural Docs D...      True  "
      ]
     },
     "execution_count": 35,
     "metadata": {},
     "output_type": "execute_result"
    }
   ],
   "source": [
    "# making a new column with the cleaned title for Netflix\n",
    "df_netflix_tv['Title']= df_netflix_tv.Title.apply(lambda x: title_cleaning(x))\n",
    "df_netflix_tv.head(1)"
   ]
  },
  {
   "cell_type": "code",
   "execution_count": 36,
   "metadata": {},
   "outputs": [],
   "source": [
    "# making a new column with the cleaned title for Amazon TV and Disney Shows\n",
    "\n",
    "df_amazon_tv['Title']= df_amazon_tv.Title.apply(lambda x: title_cleaning(x))\n",
    "#df_disney_shows['Title']= df_disney_shows.Title.apply(lambda x: title_cleaning(x))"
   ]
  },
  {
   "cell_type": "markdown",
   "metadata": {},
   "source": [
    "### 3.6 Adding TV vs Movie column in the finder.com dataframes\n",
    "- We need to add if the content is a TV or a movie"
   ]
  },
  {
   "cell_type": "code",
   "execution_count": 37,
   "metadata": {},
   "outputs": [],
   "source": [
    "df_netflix_tv['type']='TV'\n",
    "df_netflix_movie['type']='Movie'\n",
    "df_amazon_movie['type']='Movie'\n",
    "df_amazon_tv['type']='TV'"
   ]
  },
  {
   "cell_type": "code",
   "execution_count": 38,
   "metadata": {},
   "outputs": [
    {
     "data": {
      "text/html": [
       "<div>\n",
       "<style scoped>\n",
       "    .dataframe tbody tr th:only-of-type {\n",
       "        vertical-align: middle;\n",
       "    }\n",
       "\n",
       "    .dataframe tbody tr th {\n",
       "        vertical-align: top;\n",
       "    }\n",
       "\n",
       "    .dataframe thead th {\n",
       "        text-align: right;\n",
       "    }\n",
       "</style>\n",
       "<table border=\"1\" class=\"dataframe\">\n",
       "  <thead>\n",
       "    <tr style=\"text-align: right;\">\n",
       "      <th></th>\n",
       "      <th>Title</th>\n",
       "      <th>Year of release</th>\n",
       "      <th>Genres</th>\n",
       "      <th>type</th>\n",
       "    </tr>\n",
       "  </thead>\n",
       "  <tbody>\n",
       "    <tr>\n",
       "      <td>0</td>\n",
       "      <td>Marvel Studios' Avengers: Endgame</td>\n",
       "      <td>2019</td>\n",
       "      <td>Superhero Fantasy Action-Adventure Science Fic...</td>\n",
       "      <td>Movie</td>\n",
       "    </tr>\n",
       "    <tr>\n",
       "      <td>1</td>\n",
       "      <td>Marvel Studios' Captain Marvel</td>\n",
       "      <td>2019</td>\n",
       "      <td>Superhero Action-Adventure Science Fiction</td>\n",
       "      <td>Movie</td>\n",
       "    </tr>\n",
       "    <tr>\n",
       "      <td>2</td>\n",
       "      <td>Marvel Studios' Iron Man 3</td>\n",
       "      <td>2013</td>\n",
       "      <td>Superhero Action-Adventure Science Fiction</td>\n",
       "      <td>Movie</td>\n",
       "    </tr>\n",
       "  </tbody>\n",
       "</table>\n",
       "</div>"
      ],
      "text/plain": [
       "                               Title  Year of release  \\\n",
       "0  Marvel Studios' Avengers: Endgame             2019   \n",
       "1     Marvel Studios' Captain Marvel             2019   \n",
       "2         Marvel Studios' Iron Man 3             2013   \n",
       "\n",
       "                                              Genres   type  \n",
       "0  Superhero Fantasy Action-Adventure Science Fic...  Movie  \n",
       "1         Superhero Action-Adventure Science Fiction  Movie  \n",
       "2         Superhero Action-Adventure Science Fiction  Movie  "
      ]
     },
     "execution_count": 38,
     "metadata": {},
     "output_type": "execute_result"
    }
   ],
   "source": [
    "# Since Disney+ does not have seperate column for movie/tv type we can extract that info by seeing if the Title as 'Season'\n",
    "# keyword in it\n",
    "\n",
    "df_disney_shows['type'] =df_disney_shows.Title.apply(lambda x: 'TV' if 'Season' in x else 'Movie')\n",
    "df_disney_shows.head(3)"
   ]
  },
  {
   "cell_type": "markdown",
   "metadata": {},
   "source": [
    "### 3.6 Cleaning Amazon prime originals from Wikipedia\n",
    "- Cleaning the date to include the year\n",
    "- Removing unnecesary columns"
   ]
  },
  {
   "cell_type": "code",
   "execution_count": 39,
   "metadata": {},
   "outputs": [],
   "source": [
    "# Removing the future dated content that have not been released\n",
    "df_prime_wiki= df_prime_wiki.query('Premiere!=\"TBA\"')\n",
    "df_prime_wiki= df_prime_wiki.query('Premiere!=\"Upcoming\"')\n",
    "df_prime_wiki= df_prime_wiki.query('Premiere!=\"Late 2020; Renewed\"')"
   ]
  },
  {
   "cell_type": "code",
   "execution_count": 40,
   "metadata": {},
   "outputs": [],
   "source": [
    "#extracting the year info from the Premiere date\n",
    "def date_clean(x):\n",
    "    \"\"\"extracting the year info from the Premiere date\"\"\"\n",
    "    if '[' in x:\n",
    "        return int(x.split('[')[0][-4:])\n",
    "    elif 'ewed' in x:\n",
    "        return int(x.split(';')[0][-4:])\n",
    "    else:\n",
    "        return int(x[-4:])"
   ]
  },
  {
   "cell_type": "code",
   "execution_count": 41,
   "metadata": {},
   "outputs": [],
   "source": [
    "df_prime_wiki.Premiere= df_prime_wiki.Premiere.apply(lambda x: date_clean(x))"
   ]
  },
  {
   "cell_type": "code",
   "execution_count": 42,
   "metadata": {},
   "outputs": [],
   "source": [
    "# removing unnecesary columns\n",
    "df_prime_wiki= df_prime_wiki.iloc[:,:3]"
   ]
  },
  {
   "cell_type": "code",
   "execution_count": 43,
   "metadata": {},
   "outputs": [],
   "source": [
    "# editing column names\n",
    "df_prime_wiki['type']= 'TV'\n",
    "df_prime_wiki['streaming']= 'Amazon'\n",
    "df_prime_wiki.rename(columns={'Genre':'Genres', 'Premiere':'Year of release'}, inplace= True)"
   ]
  },
  {
   "cell_type": "code",
   "execution_count": 44,
   "metadata": {},
   "outputs": [
    {
     "data": {
      "text/plain": [
       "(4939, 5)"
      ]
     },
     "execution_count": 44,
     "metadata": {},
     "output_type": "execute_result"
    }
   ],
   "source": [
    "# merging the Prime original with Amazon dataframe\n",
    "df_amazon_tv= pd.concat([df_prime_wiki, df_amazon_tv], sort= False )\n",
    "df_amazon_tv.shape"
   ]
  },
  {
   "cell_type": "code",
   "execution_count": 45,
   "metadata": {},
   "outputs": [],
   "source": [
    "# resetting the index\n",
    "df_amazon_tv.reset_index(inplace= True)\n",
    "df_amazon_tv.drop(columns='index', inplace= True)"
   ]
  },
  {
   "cell_type": "markdown",
   "metadata": {},
   "source": [
    "### 3.7 Concatenating the dataframes\n",
    "- We need to add a column for streaming service before merging the dataframes."
   ]
  },
  {
   "cell_type": "code",
   "execution_count": 46,
   "metadata": {},
   "outputs": [],
   "source": [
    "# adding a column for the streaming service provider before merging the dataframes\n",
    "\n",
    "df_netflix_tv['streaming']='Netflix'\n",
    "df_netflix_movie['streaming']='Netflix'\n",
    "df_amazon_movie['streaming']='Amazon'\n",
    "df_amazon_tv['streaming']= 'Amazon'\n",
    "df_disney_shows['streaming']='Disney'"
   ]
  },
  {
   "cell_type": "code",
   "execution_count": 47,
   "metadata": {},
   "outputs": [
    {
     "data": {
      "text/plain": [
       "(13028, 7)"
      ]
     },
     "execution_count": 47,
     "metadata": {},
     "output_type": "execute_result"
    }
   ],
   "source": [
    "# Concatenating the dataframes together\n",
    "\n",
    "df_genre =pd.concat([df_netflix_tv,df_netflix_movie,df_amazon_movie,df_amazon_tv,df_disney_shows], sort= False)\n",
    "df_genre.shape"
   ]
  },
  {
   "cell_type": "code",
   "execution_count": 48,
   "metadata": {},
   "outputs": [],
   "source": [
    "# resetting the index\n",
    "df_genre.reset_index(inplace= True)\n",
    "df_genre.drop(columns='index', inplace= True)"
   ]
  },
  {
   "cell_type": "code",
   "execution_count": 49,
   "metadata": {},
   "outputs": [
    {
     "data": {
      "text/html": [
       "<div>\n",
       "<style scoped>\n",
       "    .dataframe tbody tr th:only-of-type {\n",
       "        vertical-align: middle;\n",
       "    }\n",
       "\n",
       "    .dataframe tbody tr th {\n",
       "        vertical-align: top;\n",
       "    }\n",
       "\n",
       "    .dataframe thead th {\n",
       "        text-align: right;\n",
       "    }\n",
       "</style>\n",
       "<table border=\"1\" class=\"dataframe\">\n",
       "  <thead>\n",
       "    <tr style=\"text-align: right;\">\n",
       "      <th></th>\n",
       "      <th>Title</th>\n",
       "      <th>Year of release</th>\n",
       "      <th>Genres</th>\n",
       "      <th>original</th>\n",
       "      <th>type</th>\n",
       "      <th>streaming</th>\n",
       "      <th>Runtime (mins)</th>\n",
       "    </tr>\n",
       "  </thead>\n",
       "  <tbody>\n",
       "    <tr>\n",
       "      <td>0</td>\n",
       "      <td>100 Humans</td>\n",
       "      <td>2020.0</td>\n",
       "      <td>Science &amp; Nature Docs Social &amp; Cultural Docs D...</td>\n",
       "      <td>True</td>\n",
       "      <td>TV</td>\n",
       "      <td>Netflix</td>\n",
       "      <td>NaN</td>\n",
       "    </tr>\n",
       "  </tbody>\n",
       "</table>\n",
       "</div>"
      ],
      "text/plain": [
       "        Title  Year of release  \\\n",
       "0  100 Humans           2020.0   \n",
       "\n",
       "                                              Genres original type streaming  \\\n",
       "0  Science & Nature Docs Social & Cultural Docs D...     True   TV   Netflix   \n",
       "\n",
       "   Runtime (mins)  \n",
       "0             NaN  "
      ]
     },
     "execution_count": 49,
     "metadata": {},
     "output_type": "execute_result"
    }
   ],
   "source": [
    "df_genre.head(1)"
   ]
  },
  {
   "cell_type": "code",
   "execution_count": 50,
   "metadata": {},
   "outputs": [
    {
     "data": {
      "text/plain": [
       "1028"
      ]
     },
     "execution_count": 50,
     "metadata": {},
     "output_type": "execute_result"
    }
   ],
   "source": [
    "# Finding teh duplicates in the dataset\n",
    "df_genre.duplicated(subset=['Title','type', 'streaming']).sum()"
   ]
  },
  {
   "cell_type": "code",
   "execution_count": 51,
   "metadata": {},
   "outputs": [],
   "source": [
    "# Dropping duplicate rows\n",
    "df_genre.drop_duplicates(subset=['Title','type', 'streaming'], inplace= True)"
   ]
  },
  {
   "cell_type": "markdown",
   "metadata": {},
   "source": [
    "### 3.8 Modifying the genre column\n",
    "The genre column across Netflix, Disney+ and Amazon are different and need to be standardized."
   ]
  },
  {
   "cell_type": "code",
   "execution_count": 52,
   "metadata": {},
   "outputs": [],
   "source": [
    "# Creating a master list that has all the different genres in all the dataframes\n",
    "genre_master= set()\n",
    "\n",
    "def genre_cleaning(x):\n",
    "    \"\"\"function to create a masterlist of genre categories\"\"\"\n",
    "    # set is used to prevent duplicates\n",
    "    \n",
    "    [genre_master.add(x.lower()) for x in str(x).split(' ')]"
   ]
  },
  {
   "cell_type": "code",
   "execution_count": 53,
   "metadata": {},
   "outputs": [],
   "source": [
    "# Creating a master list that has all the different genres in all the dataframes\n",
    "\n",
    "df_genre.Genres.apply(lambda x: genre_cleaning(x));"
   ]
  },
  {
   "cell_type": "code",
   "execution_count": 54,
   "metadata": {},
   "outputs": [
    {
     "data": {
      "text/plain": [
       "246"
      ]
     },
     "execution_count": 54,
     "metadata": {},
     "output_type": "execute_result"
    }
   ],
   "source": [
    "len(genre_master)"
   ]
  },
  {
   "cell_type": "code",
   "execution_count": 55,
   "metadata": {},
   "outputs": [],
   "source": [
    "# Exporting the genre to csv file for easier analysis\n",
    "file= open(r'C:\\Users\\srini\\Projects\\Online Streaming\\genre_master2.csv', 'w')\n",
    "file.write(str(genre_master) )\n",
    "file.close()"
   ]
  },
  {
   "cell_type": "markdown",
   "metadata": {},
   "source": [
    "In the csv file I cleaned the different genre categories and grouped them into 20 different categories for easier analysis. Example action, adventure-action, adventure were grouped into Action genre."
   ]
  },
  {
   "cell_type": "code",
   "execution_count": 56,
   "metadata": {},
   "outputs": [],
   "source": [
    "# Creating a dictionary to group all similar types of genre categories together\n",
    "\n",
    "genre_dic= {'action':[ 'action-adventure/comedy','animation/action','animation/action-adventure','action/historical','adventures','moviesaction','action-adventure','survival','adventure','action'],\\\n",
    "'sports': ['baseball','fitness','martial','wrestling','sports','boxing','basketball'],\\\n",
    "'thrillers_horror': [ 'detective','action/horror','thrillers','b-horror','thriller','dark','horror'],\\\n",
    "'comedy':[ 'action/comedy','comedy-drama','animation/comedy','adventure/comedy','sitcom', 'comedian','comedies','comic','moviescomedy','comics','sitcoms','comedy','stand-up'],\\\n",
    "'romantic':[ 'tvromance','dating','romance','romantic','moviesromance'],\n",
    "'drama':[ 'legal','crime','psychological','drama','tvdrama','police/cop',\\\n",
    "'k-dramas','tales','soap','musical','courtroom','wedding','melodrama','medical','teen','social','cult','survival',\\\n",
    "'moviesdrama','dark','family','dramas','fiction','reality','silent'], \\\n",
    "'others': [ 'alternative','motor','satire','motoring','novels','buddy','irreverent','independent','adult','lgbtq','parody','period','book','campy'],\\\n",
    "'misc':[ 'hard','tvprime','incorrect','&','talk','age','movies','real','moviesprime','variety','books','films','tv','channels','/','country',\\\n",
    "'film','on','nan','release','together','new','procedural', 'for','show','competition','video','and','middle','light','of',\\\n",
    " 'issue','watch','prime','pieces','shows','series','a','coming','true','features','mecha','based','noir'],\n",
    "'travel_life':[ 'art','cooking','culinary','travel','lifestyle','food','makeover','life','home','arts','nature','world','cultural','garden','cooking/travel'],\n",
    "'spiritual':[ 'spirituality','faith','spiritual'],\\\n",
    "'documentary_edu':[ 'history','docudrama','docu-series','docuseries','docs','documentaries','documentary','historical','anthology','tvscience','biographical',\\\n",
    " 'animals','tvdocumentary','moviesdocumentary','mockumentaries','disaster','science','ecology'],\\\n",
    "'music':['hip-hop','music','opera','musical','concert','concerts','dance'],\\\n",
    "'military_political':[ 'military','spy/espionage','political','police/cop','politically'],\\\n",
    "'kids':[ 'animation/live-action','animation/superhero','preschool','animal','webtoon','education',\"kids'\",'creature','disney','cartoons','children','animation','kids'],\\\n",
    "'anime':['shounen','anime','manga','seinen','animated','animation'],\\\n",
    "'mystery':['tvmystery','mysteries','moviesmystery','mystery'],\\\n",
    "'popular':['popular','favorites','moviestop-rated','top-rated','tvpopular','classic'],\\\n",
    "'game':['gamers','game'],\n",
    "'fantasy':[ 'action/fantasy','fantasy/comedy','sitcom/fantasy','science-fiction','fantasy','superhero','alien','cyborg','cyberpunk','sci-fi'],\\\n",
    "'regional':[ 'hindi','israeli','mexican','british','african','zealand','dutch','polish','japanese','filipino','irish','thai',\\\n",
    "'romanian','k-dramas','austrian','international','spanish','latin','malaysian','swedish','australian','danish',\\\n",
    " 'hindi-language','russian','belgian','asian','colombian','korean','western','taiwanese','chinese','indian',\\\n",
    "'bengali-language','german','american','bollywood','westerns','french','western/folk','canadian','singaporean','italian',\\\n",
    " 'eastern','finnish','scandinavian','argentinian','telugu-language','brazilian','chilean']         \n",
    "}"
   ]
  },
  {
   "cell_type": "code",
   "execution_count": 57,
   "metadata": {},
   "outputs": [
    {
     "data": {
      "text/plain": [
       "dict_keys(['action', 'sports', 'thrillers_horror', 'comedy', 'romantic', 'drama', 'others', 'misc', 'travel_life', 'spiritual', 'documentary_edu', 'music', 'military_political', 'kids', 'anime', 'mystery', 'popular', 'game', 'fantasy', 'regional'])"
      ]
     },
     "execution_count": 57,
     "metadata": {},
     "output_type": "execute_result"
    }
   ],
   "source": [
    "# Total number of genre categories\n",
    "genre_dic.keys()"
   ]
  },
  {
   "cell_type": "code",
   "execution_count": 58,
   "metadata": {},
   "outputs": [],
   "source": [
    "# Formatting the Genre column  to a lowercase and splitting it into a list of spaces\n",
    "df_genre['Genres']= df_genre['Genres'].apply(lambda x: str(x).lower().split(' ') )"
   ]
  },
  {
   "cell_type": "code",
   "execution_count": 59,
   "metadata": {},
   "outputs": [],
   "source": [
    "# Adding new columns for each of the genre categories\n",
    "for i in genre_dic.keys():\n",
    "    df_genre[i]= None\n",
    "\n",
    "# Function that changes the coresponding genre column value to 1 for each genre found in the Genres column\n",
    "\n",
    "def genre_col_func(genre_data):\n",
    "    \"\"\"Function that changes the coresponding genre column value to 1 for each genre found in the\n",
    "    Genres column \n",
    "    Output: None\"\"\"\n",
    "    global index\n",
    "    \n",
    "    for gd in genre_data: # Iterating through the Genres list for a row\n",
    "        for gd_key in genre_dic.keys():  # Checking which key has its value matching with Genre word\n",
    "            if gd in genre_dic[gd_key]:\n",
    "                df_genre.loc[index, gd_key]=1    # updating the respective Genre column value to 1 if a match is found\n",
    "    index +=1"
   ]
  },
  {
   "cell_type": "code",
   "execution_count": 60,
   "metadata": {},
   "outputs": [
    {
     "data": {
      "text/html": [
       "<div>\n",
       "<style scoped>\n",
       "    .dataframe tbody tr th:only-of-type {\n",
       "        vertical-align: middle;\n",
       "    }\n",
       "\n",
       "    .dataframe tbody tr th {\n",
       "        vertical-align: top;\n",
       "    }\n",
       "\n",
       "    .dataframe thead th {\n",
       "        text-align: right;\n",
       "    }\n",
       "</style>\n",
       "<table border=\"1\" class=\"dataframe\">\n",
       "  <thead>\n",
       "    <tr style=\"text-align: right;\">\n",
       "      <th></th>\n",
       "      <th>Title</th>\n",
       "      <th>Year of release</th>\n",
       "      <th>Genres</th>\n",
       "      <th>original</th>\n",
       "      <th>type</th>\n",
       "      <th>streaming</th>\n",
       "      <th>Runtime (mins)</th>\n",
       "      <th>action</th>\n",
       "      <th>sports</th>\n",
       "      <th>thrillers_horror</th>\n",
       "      <th>...</th>\n",
       "      <th>documentary_edu</th>\n",
       "      <th>music</th>\n",
       "      <th>military_political</th>\n",
       "      <th>kids</th>\n",
       "      <th>anime</th>\n",
       "      <th>mystery</th>\n",
       "      <th>popular</th>\n",
       "      <th>game</th>\n",
       "      <th>fantasy</th>\n",
       "      <th>regional</th>\n",
       "    </tr>\n",
       "  </thead>\n",
       "  <tbody>\n",
       "    <tr>\n",
       "      <td>0</td>\n",
       "      <td>100 Humans</td>\n",
       "      <td>2020.0</td>\n",
       "      <td>[science, &amp;, nature, docs, social, &amp;, cultural...</td>\n",
       "      <td>True</td>\n",
       "      <td>TV</td>\n",
       "      <td>Netflix</td>\n",
       "      <td>NaN</td>\n",
       "      <td>None</td>\n",
       "      <td>None</td>\n",
       "      <td>None</td>\n",
       "      <td>...</td>\n",
       "      <td>1</td>\n",
       "      <td>None</td>\n",
       "      <td>None</td>\n",
       "      <td>None</td>\n",
       "      <td>None</td>\n",
       "      <td>None</td>\n",
       "      <td>None</td>\n",
       "      <td>None</td>\n",
       "      <td>None</td>\n",
       "      <td>None</td>\n",
       "    </tr>\n",
       "    <tr>\n",
       "      <td>1</td>\n",
       "      <td>100% Hotter</td>\n",
       "      <td>2017.0</td>\n",
       "      <td>[reality, tv, shows, makeover, reality, tv, br...</td>\n",
       "      <td>False</td>\n",
       "      <td>TV</td>\n",
       "      <td>Netflix</td>\n",
       "      <td>NaN</td>\n",
       "      <td>None</td>\n",
       "      <td>None</td>\n",
       "      <td>None</td>\n",
       "      <td>...</td>\n",
       "      <td>None</td>\n",
       "      <td>None</td>\n",
       "      <td>None</td>\n",
       "      <td>None</td>\n",
       "      <td>None</td>\n",
       "      <td>None</td>\n",
       "      <td>None</td>\n",
       "      <td>None</td>\n",
       "      <td>None</td>\n",
       "      <td>1</td>\n",
       "    </tr>\n",
       "  </tbody>\n",
       "</table>\n",
       "<p>2 rows × 27 columns</p>\n",
       "</div>"
      ],
      "text/plain": [
       "         Title  Year of release  \\\n",
       "0   100 Humans           2020.0   \n",
       "1  100% Hotter           2017.0   \n",
       "\n",
       "                                              Genres original type streaming  \\\n",
       "0  [science, &, nature, docs, social, &, cultural...     True   TV   Netflix   \n",
       "1  [reality, tv, shows, makeover, reality, tv, br...    False   TV   Netflix   \n",
       "\n",
       "   Runtime (mins) action sports thrillers_horror  ... documentary_edu music  \\\n",
       "0             NaN   None   None             None  ...               1  None   \n",
       "1             NaN   None   None             None  ...            None  None   \n",
       "\n",
       "  military_political  kids anime mystery popular  game fantasy regional  \n",
       "0               None  None  None    None    None  None    None     None  \n",
       "1               None  None  None    None    None  None    None        1  \n",
       "\n",
       "[2 rows x 27 columns]"
      ]
     },
     "execution_count": 60,
     "metadata": {},
     "output_type": "execute_result"
    }
   ],
   "source": [
    "index=0\n",
    "df_genre.Genres.apply(lambda x: genre_col_func(x) );\n",
    "df_genre.head(2)"
   ]
  },
  {
   "cell_type": "code",
   "execution_count": 61,
   "metadata": {},
   "outputs": [],
   "source": [
    "# Creating a backup\n",
    "df_copy= df.copy()\n",
    "df_genre_copy= df_genre.copy()"
   ]
  },
  {
   "cell_type": "markdown",
   "metadata": {},
   "source": [
    "### 3.9 Minor cleaning\n",
    "- Renaming few columns in df_genre <br>\n",
    "- dropping year from df_genre <br>"
   ]
  },
  {
   "cell_type": "code",
   "execution_count": 62,
   "metadata": {},
   "outputs": [
    {
     "data": {
      "text/html": [
       "<div>\n",
       "<style scoped>\n",
       "    .dataframe tbody tr th:only-of-type {\n",
       "        vertical-align: middle;\n",
       "    }\n",
       "\n",
       "    .dataframe tbody tr th {\n",
       "        vertical-align: top;\n",
       "    }\n",
       "\n",
       "    .dataframe thead th {\n",
       "        text-align: right;\n",
       "    }\n",
       "</style>\n",
       "<table border=\"1\" class=\"dataframe\">\n",
       "  <thead>\n",
       "    <tr style=\"text-align: right;\">\n",
       "      <th></th>\n",
       "      <th>title</th>\n",
       "      <th>year</th>\n",
       "      <th>Genres</th>\n",
       "      <th>original</th>\n",
       "      <th>type</th>\n",
       "      <th>streaming</th>\n",
       "      <th>runtime</th>\n",
       "      <th>action</th>\n",
       "      <th>sports</th>\n",
       "      <th>thrillers_horror</th>\n",
       "      <th>...</th>\n",
       "      <th>documentary_edu</th>\n",
       "      <th>music</th>\n",
       "      <th>military_political</th>\n",
       "      <th>kids</th>\n",
       "      <th>anime</th>\n",
       "      <th>mystery</th>\n",
       "      <th>popular</th>\n",
       "      <th>game</th>\n",
       "      <th>fantasy</th>\n",
       "      <th>regional</th>\n",
       "    </tr>\n",
       "  </thead>\n",
       "  <tbody>\n",
       "    <tr>\n",
       "      <td>0</td>\n",
       "      <td>100 Humans</td>\n",
       "      <td>2020.0</td>\n",
       "      <td>[science, &amp;, nature, docs, social, &amp;, cultural...</td>\n",
       "      <td>True</td>\n",
       "      <td>TV</td>\n",
       "      <td>Netflix</td>\n",
       "      <td>NaN</td>\n",
       "      <td>None</td>\n",
       "      <td>None</td>\n",
       "      <td>None</td>\n",
       "      <td>...</td>\n",
       "      <td>1</td>\n",
       "      <td>None</td>\n",
       "      <td>None</td>\n",
       "      <td>None</td>\n",
       "      <td>None</td>\n",
       "      <td>None</td>\n",
       "      <td>None</td>\n",
       "      <td>None</td>\n",
       "      <td>None</td>\n",
       "      <td>None</td>\n",
       "    </tr>\n",
       "    <tr>\n",
       "      <td>1</td>\n",
       "      <td>100% Hotter</td>\n",
       "      <td>2017.0</td>\n",
       "      <td>[reality, tv, shows, makeover, reality, tv, br...</td>\n",
       "      <td>False</td>\n",
       "      <td>TV</td>\n",
       "      <td>Netflix</td>\n",
       "      <td>NaN</td>\n",
       "      <td>None</td>\n",
       "      <td>None</td>\n",
       "      <td>None</td>\n",
       "      <td>...</td>\n",
       "      <td>None</td>\n",
       "      <td>None</td>\n",
       "      <td>None</td>\n",
       "      <td>None</td>\n",
       "      <td>None</td>\n",
       "      <td>None</td>\n",
       "      <td>None</td>\n",
       "      <td>None</td>\n",
       "      <td>None</td>\n",
       "      <td>1</td>\n",
       "    </tr>\n",
       "    <tr>\n",
       "      <td>2</td>\n",
       "      <td>12 Years Promise</td>\n",
       "      <td>2014.0</td>\n",
       "      <td>[tv, comedies, tv, dramas, romantic, tv, comed...</td>\n",
       "      <td>False</td>\n",
       "      <td>TV</td>\n",
       "      <td>Netflix</td>\n",
       "      <td>NaN</td>\n",
       "      <td>None</td>\n",
       "      <td>None</td>\n",
       "      <td>None</td>\n",
       "      <td>...</td>\n",
       "      <td>None</td>\n",
       "      <td>None</td>\n",
       "      <td>None</td>\n",
       "      <td>None</td>\n",
       "      <td>None</td>\n",
       "      <td>None</td>\n",
       "      <td>None</td>\n",
       "      <td>None</td>\n",
       "      <td>None</td>\n",
       "      <td>1</td>\n",
       "    </tr>\n",
       "    <tr>\n",
       "      <td>3</td>\n",
       "      <td>13 Reasons Why</td>\n",
       "      <td>2019.0</td>\n",
       "      <td>[tv, mysteries, tv, dramas, crime, tv, dramas,...</td>\n",
       "      <td>True</td>\n",
       "      <td>TV</td>\n",
       "      <td>Netflix</td>\n",
       "      <td>NaN</td>\n",
       "      <td>None</td>\n",
       "      <td>None</td>\n",
       "      <td>None</td>\n",
       "      <td>...</td>\n",
       "      <td>None</td>\n",
       "      <td>None</td>\n",
       "      <td>None</td>\n",
       "      <td>None</td>\n",
       "      <td>None</td>\n",
       "      <td>1</td>\n",
       "      <td>None</td>\n",
       "      <td>None</td>\n",
       "      <td>None</td>\n",
       "      <td>None</td>\n",
       "    </tr>\n",
       "    <tr>\n",
       "      <td>4</td>\n",
       "      <td>13 Reasons Why: Beyond the Reasons</td>\n",
       "      <td>2019.0</td>\n",
       "      <td>[docuseries]</td>\n",
       "      <td>True</td>\n",
       "      <td>TV</td>\n",
       "      <td>Netflix</td>\n",
       "      <td>NaN</td>\n",
       "      <td>None</td>\n",
       "      <td>None</td>\n",
       "      <td>None</td>\n",
       "      <td>...</td>\n",
       "      <td>1</td>\n",
       "      <td>None</td>\n",
       "      <td>None</td>\n",
       "      <td>None</td>\n",
       "      <td>None</td>\n",
       "      <td>None</td>\n",
       "      <td>None</td>\n",
       "      <td>None</td>\n",
       "      <td>None</td>\n",
       "      <td>None</td>\n",
       "    </tr>\n",
       "  </tbody>\n",
       "</table>\n",
       "<p>5 rows × 27 columns</p>\n",
       "</div>"
      ],
      "text/plain": [
       "                                title    year  \\\n",
       "0                          100 Humans  2020.0   \n",
       "1                         100% Hotter  2017.0   \n",
       "2                    12 Years Promise  2014.0   \n",
       "3                      13 Reasons Why  2019.0   \n",
       "4  13 Reasons Why: Beyond the Reasons  2019.0   \n",
       "\n",
       "                                              Genres original type streaming  \\\n",
       "0  [science, &, nature, docs, social, &, cultural...     True   TV   Netflix   \n",
       "1  [reality, tv, shows, makeover, reality, tv, br...    False   TV   Netflix   \n",
       "2  [tv, comedies, tv, dramas, romantic, tv, comed...    False   TV   Netflix   \n",
       "3  [tv, mysteries, tv, dramas, crime, tv, dramas,...     True   TV   Netflix   \n",
       "4                                       [docuseries]     True   TV   Netflix   \n",
       "\n",
       "   runtime action sports thrillers_horror  ... documentary_edu music  \\\n",
       "0      NaN   None   None             None  ...               1  None   \n",
       "1      NaN   None   None             None  ...            None  None   \n",
       "2      NaN   None   None             None  ...            None  None   \n",
       "3      NaN   None   None             None  ...            None  None   \n",
       "4      NaN   None   None             None  ...               1  None   \n",
       "\n",
       "  military_political  kids anime mystery popular  game fantasy regional  \n",
       "0               None  None  None    None    None  None    None     None  \n",
       "1               None  None  None    None    None  None    None        1  \n",
       "2               None  None  None    None    None  None    None        1  \n",
       "3               None  None  None       1    None  None    None     None  \n",
       "4               None  None  None    None    None  None    None     None  \n",
       "\n",
       "[5 rows x 27 columns]"
      ]
     },
     "execution_count": 62,
     "metadata": {},
     "output_type": "execute_result"
    }
   ],
   "source": [
    "# Renaming few columns in df_genre\n",
    "df_genre.rename(columns={'Runtime (mins)':'runtime','Title':'title', 'Year of release':'year'}, inplace= True)\n",
    "df_genre.head()"
   ]
  },
  {
   "cell_type": "code",
   "execution_count": 63,
   "metadata": {},
   "outputs": [],
   "source": [
    "# dropping year column from df_genre as df has that info\n",
    "df_genre.drop(columns='year', inplace= True)"
   ]
  },
  {
   "cell_type": "code",
   "execution_count": null,
   "metadata": {},
   "outputs": [],
   "source": []
  },
  {
   "cell_type": "markdown",
   "metadata": {},
   "source": [
    "### 3.10 Missing values"
   ]
  },
  {
   "cell_type": "code",
   "execution_count": 64,
   "metadata": {},
   "outputs": [
    {
     "data": {
      "text/plain": [
       "title                     0\n",
       "Genres                    0\n",
       "original               6532\n",
       "type                      0\n",
       "streaming                 0\n",
       "runtime                8299\n",
       "action                10798\n",
       "sports                11892\n",
       "thrillers_horror      11205\n",
       "comedy                10305\n",
       "romantic              11326\n",
       "drama                  7604\n",
       "others                11708\n",
       "misc                   3638\n",
       "travel_life           11742\n",
       "spiritual             11991\n",
       "documentary_edu        9920\n",
       "music                 11831\n",
       "military_political    11893\n",
       "kids                  10302\n",
       "anime                 11435\n",
       "mystery               11613\n",
       "popular               10063\n",
       "game                  11976\n",
       "fantasy               11506\n",
       "regional              10222\n",
       "dtype: int64"
      ]
     },
     "execution_count": 64,
     "metadata": {},
     "output_type": "execute_result"
    }
   ],
   "source": [
    "# Rows with missing titles\n",
    "df_genre.dropna(subset=['title'], inplace= True)\n",
    "df_genre.isna().sum()"
   ]
  },
  {
   "cell_type": "markdown",
   "metadata": {},
   "source": [
    "### 3.11 Cleaning Title for Disney TV shows"
   ]
  },
  {
   "cell_type": "code",
   "execution_count": 65,
   "metadata": {},
   "outputs": [],
   "source": [
    "# cleaning disney title column\n",
    "df_genre.loc[df_genre.query('streaming==\"Disney\" and type==\"TV\"').index, 'title']= \\\n",
    "df_genre.query('streaming==\"Disney\" and type==\"TV\"').title.apply(lambda x: x.split('Season')[0])"
   ]
  },
  {
   "cell_type": "code",
   "execution_count": 66,
   "metadata": {},
   "outputs": [
    {
     "data": {
      "text/plain": [
       "12007                                Marvel's Hero Project\n",
       "12009                                    Marvel's Runaways\n",
       "12011                                Marvel's Agent Carter\n",
       "12012                                    Marvel's Inhumans\n",
       "12013                     Marvel's Rocket & Groot (Shorts)\n",
       "                               ...                        \n",
       "13012                                  Disney Prop Culture\n",
       "13013                                  Disney Raven's Home\n",
       "13014                                           Shop Class\n",
       "13015    Walt Disney Animation Studios: Short Circuit E...\n",
       "13016                                           Zenimation\n",
       "Name: title, Length: 249, dtype: object"
      ]
     },
     "execution_count": 66,
     "metadata": {},
     "output_type": "execute_result"
    }
   ],
   "source": [
    "df_genre.query('streaming==\"Disney\" and type==\"TV\"').title"
   ]
  },
  {
   "cell_type": "markdown",
   "metadata": {},
   "source": [
    "### 3.12 Adding Regional Language section\n",
    "- Adding a column for language if there is a region lanugage movie"
   ]
  },
  {
   "cell_type": "code",
   "execution_count": 67,
   "metadata": {},
   "outputs": [],
   "source": [
    "# Adding a column for language if there is a region language movie\n",
    "df_genre['country']= df_genre['Genres'].apply(lambda x: str([y for y in genre_dic['regional'] if (y in x)])[2:-2])"
   ]
  },
  {
   "cell_type": "code",
   "execution_count": 68,
   "metadata": {},
   "outputs": [
    {
     "data": {
      "text/plain": [
       "Index(['title', 'Genres', 'original', 'type', 'streaming', 'runtime', 'action',\n",
       "       'sports', 'thrillers_horror', 'comedy', 'romantic', 'drama', 'others',\n",
       "       'misc', 'travel_life', 'spiritual', 'documentary_edu', 'music',\n",
       "       'military_political', 'kids', 'anime', 'mystery', 'popular', 'game',\n",
       "       'fantasy', 'regional', 'country'],\n",
       "      dtype='object')"
      ]
     },
     "execution_count": 68,
     "metadata": {},
     "output_type": "execute_result"
    }
   ],
   "source": [
    "df_genre.columns"
   ]
  },
  {
   "cell_type": "markdown",
   "metadata": {},
   "source": [
    "### 3.13 Adding original Prime information to df_genre dataframe"
   ]
  },
  {
   "cell_type": "code",
   "execution_count": 69,
   "metadata": {},
   "outputs": [],
   "source": [
    "# checking which title are there in the Wiki df\n",
    "ind= df_genre.title[df_genre.title.apply(lambda x: x in list(df_prime_wiki.Title))].index\n",
    "\n",
    "df_genre.loc[ind,'original']=1"
   ]
  },
  {
   "cell_type": "code",
   "execution_count": 70,
   "metadata": {},
   "outputs": [
    {
     "data": {
      "text/plain": [
       "1807"
      ]
     },
     "execution_count": 70,
     "metadata": {},
     "output_type": "execute_result"
    }
   ],
   "source": [
    "df_genre.original.sum()"
   ]
  },
  {
   "cell_type": "code",
   "execution_count": 71,
   "metadata": {},
   "outputs": [
    {
     "data": {
      "text/plain": [
       "0"
      ]
     },
     "execution_count": 71,
     "metadata": {},
     "output_type": "execute_result"
    }
   ],
   "source": [
    "# finding duplicate rows\n",
    "df_genre.duplicated(subset=['title','type', 'streaming']).sum()"
   ]
  },
  {
   "cell_type": "markdown",
   "metadata": {},
   "source": [
    "### 3.13 Merging the dataframes together"
   ]
  },
  {
   "cell_type": "code",
   "execution_count": 72,
   "metadata": {},
   "outputs": [],
   "source": [
    "# Exporting the df_genre to create a backup\n",
    "df_genre.to_csv(r'C:\\Users\\srini\\Projects\\Online Streaming\\df_genre_clean.csv', index= False)"
   ]
  },
  {
   "cell_type": "code",
   "execution_count": 73,
   "metadata": {},
   "outputs": [],
   "source": [
    "#df_genre= pd.read_csv(r'C:\\Users\\srini\\Projects\\Online Streaming\\df_genre_clean.csv')"
   ]
  },
  {
   "cell_type": "code",
   "execution_count": 74,
   "metadata": {},
   "outputs": [
    {
     "data": {
      "text/html": [
       "<div>\n",
       "<style scoped>\n",
       "    .dataframe tbody tr th:only-of-type {\n",
       "        vertical-align: middle;\n",
       "    }\n",
       "\n",
       "    .dataframe tbody tr th {\n",
       "        vertical-align: top;\n",
       "    }\n",
       "\n",
       "    .dataframe thead th {\n",
       "        text-align: right;\n",
       "    }\n",
       "</style>\n",
       "<table border=\"1\" class=\"dataframe\">\n",
       "  <thead>\n",
       "    <tr style=\"text-align: right;\">\n",
       "      <th></th>\n",
       "      <th>title</th>\n",
       "      <th>Genres</th>\n",
       "      <th>original</th>\n",
       "      <th>type</th>\n",
       "      <th>streaming</th>\n",
       "      <th>runtime</th>\n",
       "      <th>action</th>\n",
       "      <th>sports</th>\n",
       "      <th>thrillers_horror</th>\n",
       "      <th>comedy</th>\n",
       "      <th>...</th>\n",
       "      <th>music</th>\n",
       "      <th>military_political</th>\n",
       "      <th>kids</th>\n",
       "      <th>anime</th>\n",
       "      <th>mystery</th>\n",
       "      <th>popular</th>\n",
       "      <th>game</th>\n",
       "      <th>fantasy</th>\n",
       "      <th>regional</th>\n",
       "      <th>country</th>\n",
       "    </tr>\n",
       "  </thead>\n",
       "  <tbody>\n",
       "    <tr>\n",
       "      <td>0</td>\n",
       "      <td>100 Humans</td>\n",
       "      <td>[science, &amp;, nature, docs, social, &amp;, cultural...</td>\n",
       "      <td>True</td>\n",
       "      <td>TV</td>\n",
       "      <td>Netflix</td>\n",
       "      <td>NaN</td>\n",
       "      <td>None</td>\n",
       "      <td>None</td>\n",
       "      <td>None</td>\n",
       "      <td>None</td>\n",
       "      <td>...</td>\n",
       "      <td>None</td>\n",
       "      <td>None</td>\n",
       "      <td>None</td>\n",
       "      <td>None</td>\n",
       "      <td>None</td>\n",
       "      <td>None</td>\n",
       "      <td>None</td>\n",
       "      <td>None</td>\n",
       "      <td>None</td>\n",
       "      <td></td>\n",
       "    </tr>\n",
       "  </tbody>\n",
       "</table>\n",
       "<p>1 rows × 27 columns</p>\n",
       "</div>"
      ],
      "text/plain": [
       "        title                                             Genres original  \\\n",
       "0  100 Humans  [science, &, nature, docs, social, &, cultural...     True   \n",
       "\n",
       "  type streaming  runtime action sports thrillers_horror comedy  ... music  \\\n",
       "0   TV   Netflix      NaN   None   None             None   None  ...  None   \n",
       "\n",
       "  military_political  kids anime mystery popular  game fantasy regional  \\\n",
       "0               None  None  None    None    None  None    None     None   \n",
       "\n",
       "  country  \n",
       "0          \n",
       "\n",
       "[1 rows x 27 columns]"
      ]
     },
     "execution_count": 74,
     "metadata": {},
     "output_type": "execute_result"
    }
   ],
   "source": [
    "df_genre.head(1)"
   ]
  },
  {
   "cell_type": "code",
   "execution_count": 75,
   "metadata": {},
   "outputs": [],
   "source": [
    "# Matching the title columns for both the dataframes\n",
    "def title_match(x, temp_list, temp_list2):\n",
    "    \"\"\"Matching the title columns for both the dataframes\"\"\"          \n",
    "    for y in temp_list:\n",
    "        if x == y:\n",
    "            return y\n",
    "\n",
    "        elif x in y:\n",
    "            return y\n",
    "\n",
    "    for yy in temp_list2:\n",
    "        if yy in x:\n",
    "            return yy\n",
    "\n",
    "temp_list = list(df_genre.title.str.lower().str.strip())\n",
    "temp_list2 = [x for x in df_genre.title.str.lower().str.strip() if len(x)>4]\n",
    "\n",
    "df['title2']= df.title.apply(lambda x: title_match(x.lower().strip(), temp_list, temp_list2 ))"
   ]
  },
  {
   "cell_type": "code",
   "execution_count": 76,
   "metadata": {},
   "outputs": [
    {
     "data": {
      "text/html": [
       "<div>\n",
       "<style scoped>\n",
       "    .dataframe tbody tr th:only-of-type {\n",
       "        vertical-align: middle;\n",
       "    }\n",
       "\n",
       "    .dataframe tbody tr th {\n",
       "        vertical-align: top;\n",
       "    }\n",
       "\n",
       "    .dataframe thead th {\n",
       "        text-align: right;\n",
       "    }\n",
       "</style>\n",
       "<table border=\"1\" class=\"dataframe\">\n",
       "  <thead>\n",
       "    <tr style=\"text-align: right;\">\n",
       "      <th></th>\n",
       "      <th>title</th>\n",
       "      <th>year</th>\n",
       "      <th>age_group</th>\n",
       "      <th>imdb</th>\n",
       "      <th>rotten_tomato</th>\n",
       "      <th>streaming</th>\n",
       "      <th>title2</th>\n",
       "    </tr>\n",
       "  </thead>\n",
       "  <tbody>\n",
       "    <tr>\n",
       "      <td>0</td>\n",
       "      <td>Breaking Bad</td>\n",
       "      <td>2008</td>\n",
       "      <td>18+</td>\n",
       "      <td>9.5</td>\n",
       "      <td>96.0</td>\n",
       "      <td>Netflix</td>\n",
       "      <td>breaking bad</td>\n",
       "    </tr>\n",
       "  </tbody>\n",
       "</table>\n",
       "</div>"
      ],
      "text/plain": [
       "          title  year age_group  imdb  rotten_tomato streaming        title2\n",
       "0  Breaking Bad  2008       18+   9.5           96.0   Netflix  breaking bad"
      ]
     },
     "execution_count": 76,
     "metadata": {},
     "output_type": "execute_result"
    }
   ],
   "source": [
    "df.head(1)"
   ]
  },
  {
   "cell_type": "code",
   "execution_count": 77,
   "metadata": {},
   "outputs": [
    {
     "data": {
      "text/html": [
       "<div>\n",
       "<style scoped>\n",
       "    .dataframe tbody tr th:only-of-type {\n",
       "        vertical-align: middle;\n",
       "    }\n",
       "\n",
       "    .dataframe tbody tr th {\n",
       "        vertical-align: top;\n",
       "    }\n",
       "\n",
       "    .dataframe thead th {\n",
       "        text-align: right;\n",
       "    }\n",
       "</style>\n",
       "<table border=\"1\" class=\"dataframe\">\n",
       "  <thead>\n",
       "    <tr style=\"text-align: right;\">\n",
       "      <th></th>\n",
       "      <th>title_x</th>\n",
       "      <th>Genres</th>\n",
       "      <th>original</th>\n",
       "      <th>type</th>\n",
       "      <th>streaming_x</th>\n",
       "      <th>runtime</th>\n",
       "      <th>action</th>\n",
       "      <th>sports</th>\n",
       "      <th>thrillers_horror</th>\n",
       "      <th>comedy</th>\n",
       "      <th>...</th>\n",
       "      <th>fantasy</th>\n",
       "      <th>regional</th>\n",
       "      <th>country</th>\n",
       "      <th>title2</th>\n",
       "      <th>title_y</th>\n",
       "      <th>year</th>\n",
       "      <th>age_group</th>\n",
       "      <th>imdb</th>\n",
       "      <th>rotten_tomato</th>\n",
       "      <th>streaming_y</th>\n",
       "    </tr>\n",
       "  </thead>\n",
       "  <tbody>\n",
       "    <tr>\n",
       "      <td>0</td>\n",
       "      <td>100 Humans</td>\n",
       "      <td>[science, &amp;, nature, docs, social, &amp;, cultural...</td>\n",
       "      <td>True</td>\n",
       "      <td>TV</td>\n",
       "      <td>Netflix</td>\n",
       "      <td>NaN</td>\n",
       "      <td>None</td>\n",
       "      <td>None</td>\n",
       "      <td>None</td>\n",
       "      <td>None</td>\n",
       "      <td>...</td>\n",
       "      <td>None</td>\n",
       "      <td>None</td>\n",
       "      <td></td>\n",
       "      <td>100 humans</td>\n",
       "      <td>100 Humans. Life's Questions. Answered.</td>\n",
       "      <td>2020.0</td>\n",
       "      <td>NaN</td>\n",
       "      <td>5.7</td>\n",
       "      <td>NaN</td>\n",
       "      <td>Netflix</td>\n",
       "    </tr>\n",
       "  </tbody>\n",
       "</table>\n",
       "<p>1 rows × 34 columns</p>\n",
       "</div>"
      ],
      "text/plain": [
       "      title_x                                             Genres original  \\\n",
       "0  100 Humans  [science, &, nature, docs, social, &, cultural...     True   \n",
       "\n",
       "  type streaming_x  runtime action sports thrillers_horror comedy  ...  \\\n",
       "0   TV     Netflix      NaN   None   None             None   None  ...   \n",
       "\n",
       "  fantasy regional country      title2  \\\n",
       "0    None     None          100 humans   \n",
       "\n",
       "                                   title_y    year age_group imdb  \\\n",
       "0  100 Humans. Life's Questions. Answered.  2020.0       NaN  5.7   \n",
       "\n",
       "  rotten_tomato streaming_y  \n",
       "0           NaN     Netflix  \n",
       "\n",
       "[1 rows x 34 columns]"
      ]
     },
     "execution_count": 77,
     "metadata": {},
     "output_type": "execute_result"
    }
   ],
   "source": [
    "df_genre['title2']= df_genre['title'].str.lower().str.strip()\n",
    "df_merge= pd.merge( df_genre,df, on='title2', how='left')\n",
    "df_merge.head(1)"
   ]
  },
  {
   "cell_type": "markdown",
   "metadata": {},
   "source": [
    "### 3.13 Changing Age-group to ordered categorical variable\n"
   ]
  },
  {
   "cell_type": "code",
   "execution_count": 78,
   "metadata": {},
   "outputs": [
    {
     "data": {
      "text/plain": [
       "0        NaN\n",
       "1        16+\n",
       "2        13+\n",
       "3        NaN\n",
       "4        13+\n",
       "        ... \n",
       "17486     7+\n",
       "17487    NaN\n",
       "17488    NaN\n",
       "17489    NaN\n",
       "17490     7+\n",
       "Name: age_group, Length: 17491, dtype: category\n",
       "Categories (5, object): [all < 7+ < 13+ < 16+ < 18+]"
      ]
     },
     "execution_count": 78,
     "metadata": {},
     "output_type": "execute_result"
    }
   ],
   "source": [
    "# Changing Age-group to ordered categorical variable\n",
    "age_category = pd.api.types.CategoricalDtype(['all','7+','13+','16+','18+'], ordered=True)\n",
    "\n",
    "df_merge.age_group.astype(age_category)"
   ]
  },
  {
   "cell_type": "code",
   "execution_count": 79,
   "metadata": {},
   "outputs": [
    {
     "data": {
      "text/plain": [
       "array([nan, '16+', '13+', '18+', '7+', 'all'], dtype=object)"
      ]
     },
     "execution_count": 79,
     "metadata": {},
     "output_type": "execute_result"
    }
   ],
   "source": [
    "df_merge.age_group.unique()"
   ]
  },
  {
   "cell_type": "code",
   "execution_count": 80,
   "metadata": {},
   "outputs": [
    {
     "data": {
      "text/plain": [
       "Netflix    8941\n",
       "Amazon     7306\n",
       "Disney     1244\n",
       "Name: streaming_x, dtype: int64"
      ]
     },
     "execution_count": 80,
     "metadata": {},
     "output_type": "execute_result"
    }
   ],
   "source": [
    "df_merge.streaming_x.value_counts()"
   ]
  },
  {
   "cell_type": "markdown",
   "metadata": {},
   "source": [
    "### 3.xx Adding HBO Max content to merged dataset"
   ]
  },
  {
   "cell_type": "code",
   "execution_count": 81,
   "metadata": {},
   "outputs": [
    {
     "name": "stderr",
     "output_type": "stream",
     "text": [
      "C:\\Users\\srini\\AppData\\Local\\Continuum\\anaconda3\\lib\\site-packages\\pandas\\core\\frame.py:4223: SettingWithCopyWarning: \n",
      "A value is trying to be set on a copy of a slice from a DataFrame\n",
      "\n",
      "See the caveats in the documentation: http://pandas.pydata.org/pandas-docs/stable/user_guide/indexing.html#returning-a-view-versus-a-copy\n",
      "  return super().rename(**kwargs)\n"
     ]
    }
   ],
   "source": [
    "df_hbo2= df.query('streaming==\"HBO\"')\n",
    "df_hbo2.rename(columns={'title':'title_x', 'streaming':'streaming_x'}, inplace= True)"
   ]
  },
  {
   "cell_type": "code",
   "execution_count": 82,
   "metadata": {},
   "outputs": [
    {
     "data": {
      "text/html": [
       "<div>\n",
       "<style scoped>\n",
       "    .dataframe tbody tr th:only-of-type {\n",
       "        vertical-align: middle;\n",
       "    }\n",
       "\n",
       "    .dataframe tbody tr th {\n",
       "        vertical-align: top;\n",
       "    }\n",
       "\n",
       "    .dataframe thead th {\n",
       "        text-align: right;\n",
       "    }\n",
       "</style>\n",
       "<table border=\"1\" class=\"dataframe\">\n",
       "  <thead>\n",
       "    <tr style=\"text-align: right;\">\n",
       "      <th></th>\n",
       "      <th>title_x</th>\n",
       "      <th>year</th>\n",
       "      <th>age_group</th>\n",
       "      <th>imdb</th>\n",
       "      <th>rotten_tomato</th>\n",
       "      <th>streaming_x</th>\n",
       "      <th>title2</th>\n",
       "    </tr>\n",
       "  </thead>\n",
       "  <tbody>\n",
       "    <tr>\n",
       "      <td>22311</td>\n",
       "      <td>Game of Thrones</td>\n",
       "      <td>2011</td>\n",
       "      <td>18+</td>\n",
       "      <td>9.3</td>\n",
       "      <td>89.0</td>\n",
       "      <td>HBO</td>\n",
       "      <td>None</td>\n",
       "    </tr>\n",
       "  </tbody>\n",
       "</table>\n",
       "</div>"
      ],
      "text/plain": [
       "               title_x  year age_group  imdb  rotten_tomato streaming_x title2\n",
       "22311  Game of Thrones  2011       18+   9.3           89.0         HBO   None"
      ]
     },
     "execution_count": 82,
     "metadata": {},
     "output_type": "execute_result"
    }
   ],
   "source": [
    "df_hbo2.head(1)"
   ]
  },
  {
   "cell_type": "code",
   "execution_count": 83,
   "metadata": {},
   "outputs": [
    {
     "data": {
      "text/plain": [
       "(19519, 34)"
      ]
     },
     "execution_count": 83,
     "metadata": {},
     "output_type": "execute_result"
    }
   ],
   "source": [
    "# merging the HBo content to the merged dataframe\n",
    "df_merge= pd.concat([df_merge, df_hbo2], sort= False )\n",
    "df_merge.shape"
   ]
  },
  {
   "cell_type": "code",
   "execution_count": 84,
   "metadata": {},
   "outputs": [
    {
     "data": {
      "text/html": [
       "<div>\n",
       "<style scoped>\n",
       "    .dataframe tbody tr th:only-of-type {\n",
       "        vertical-align: middle;\n",
       "    }\n",
       "\n",
       "    .dataframe tbody tr th {\n",
       "        vertical-align: top;\n",
       "    }\n",
       "\n",
       "    .dataframe thead th {\n",
       "        text-align: right;\n",
       "    }\n",
       "</style>\n",
       "<table border=\"1\" class=\"dataframe\">\n",
       "  <thead>\n",
       "    <tr style=\"text-align: right;\">\n",
       "      <th></th>\n",
       "      <th>title_x</th>\n",
       "      <th>Genres</th>\n",
       "      <th>original</th>\n",
       "      <th>type</th>\n",
       "      <th>streaming_x</th>\n",
       "      <th>runtime</th>\n",
       "      <th>action</th>\n",
       "      <th>sports</th>\n",
       "      <th>thrillers_horror</th>\n",
       "      <th>comedy</th>\n",
       "      <th>...</th>\n",
       "      <th>fantasy</th>\n",
       "      <th>regional</th>\n",
       "      <th>country</th>\n",
       "      <th>title2</th>\n",
       "      <th>title_y</th>\n",
       "      <th>year</th>\n",
       "      <th>age_group</th>\n",
       "      <th>imdb</th>\n",
       "      <th>rotten_tomato</th>\n",
       "      <th>streaming_y</th>\n",
       "    </tr>\n",
       "  </thead>\n",
       "  <tbody>\n",
       "    <tr>\n",
       "      <td>24334</td>\n",
       "      <td>The Rise &amp; Fall Of T-Rex</td>\n",
       "      <td>NaN</td>\n",
       "      <td>NaN</td>\n",
       "      <td>NaN</td>\n",
       "      <td>HBO</td>\n",
       "      <td>NaN</td>\n",
       "      <td>NaN</td>\n",
       "      <td>NaN</td>\n",
       "      <td>NaN</td>\n",
       "      <td>NaN</td>\n",
       "      <td>...</td>\n",
       "      <td>NaN</td>\n",
       "      <td>NaN</td>\n",
       "      <td>NaN</td>\n",
       "      <td>None</td>\n",
       "      <td>NaN</td>\n",
       "      <td>2015.0</td>\n",
       "      <td>NaN</td>\n",
       "      <td>NaN</td>\n",
       "      <td>NaN</td>\n",
       "      <td>NaN</td>\n",
       "    </tr>\n",
       "    <tr>\n",
       "      <td>24335</td>\n",
       "      <td>The Norwegian Fjords</td>\n",
       "      <td>NaN</td>\n",
       "      <td>NaN</td>\n",
       "      <td>NaN</td>\n",
       "      <td>HBO</td>\n",
       "      <td>NaN</td>\n",
       "      <td>NaN</td>\n",
       "      <td>NaN</td>\n",
       "      <td>NaN</td>\n",
       "      <td>NaN</td>\n",
       "      <td>...</td>\n",
       "      <td>NaN</td>\n",
       "      <td>NaN</td>\n",
       "      <td>NaN</td>\n",
       "      <td>None</td>\n",
       "      <td>NaN</td>\n",
       "      <td>2018.0</td>\n",
       "      <td>NaN</td>\n",
       "      <td>NaN</td>\n",
       "      <td>NaN</td>\n",
       "      <td>NaN</td>\n",
       "    </tr>\n",
       "    <tr>\n",
       "      <td>24336</td>\n",
       "      <td>Mystery Signal From Space</td>\n",
       "      <td>NaN</td>\n",
       "      <td>NaN</td>\n",
       "      <td>NaN</td>\n",
       "      <td>HBO</td>\n",
       "      <td>NaN</td>\n",
       "      <td>NaN</td>\n",
       "      <td>NaN</td>\n",
       "      <td>NaN</td>\n",
       "      <td>NaN</td>\n",
       "      <td>...</td>\n",
       "      <td>NaN</td>\n",
       "      <td>NaN</td>\n",
       "      <td>NaN</td>\n",
       "      <td>signal</td>\n",
       "      <td>NaN</td>\n",
       "      <td>2018.0</td>\n",
       "      <td>NaN</td>\n",
       "      <td>NaN</td>\n",
       "      <td>NaN</td>\n",
       "      <td>NaN</td>\n",
       "    </tr>\n",
       "    <tr>\n",
       "      <td>24337</td>\n",
       "      <td>Top Science Stories of 2019</td>\n",
       "      <td>NaN</td>\n",
       "      <td>NaN</td>\n",
       "      <td>NaN</td>\n",
       "      <td>HBO</td>\n",
       "      <td>NaN</td>\n",
       "      <td>NaN</td>\n",
       "      <td>NaN</td>\n",
       "      <td>NaN</td>\n",
       "      <td>NaN</td>\n",
       "      <td>...</td>\n",
       "      <td>NaN</td>\n",
       "      <td>NaN</td>\n",
       "      <td>NaN</td>\n",
       "      <td>None</td>\n",
       "      <td>NaN</td>\n",
       "      <td>2019.0</td>\n",
       "      <td>NaN</td>\n",
       "      <td>NaN</td>\n",
       "      <td>NaN</td>\n",
       "      <td>NaN</td>\n",
       "    </tr>\n",
       "    <tr>\n",
       "      <td>24338</td>\n",
       "      <td>What Animals See</td>\n",
       "      <td>NaN</td>\n",
       "      <td>NaN</td>\n",
       "      <td>NaN</td>\n",
       "      <td>HBO</td>\n",
       "      <td>NaN</td>\n",
       "      <td>NaN</td>\n",
       "      <td>NaN</td>\n",
       "      <td>NaN</td>\n",
       "      <td>NaN</td>\n",
       "      <td>...</td>\n",
       "      <td>NaN</td>\n",
       "      <td>NaN</td>\n",
       "      <td>NaN</td>\n",
       "      <td>None</td>\n",
       "      <td>NaN</td>\n",
       "      <td>2018.0</td>\n",
       "      <td>NaN</td>\n",
       "      <td>NaN</td>\n",
       "      <td>NaN</td>\n",
       "      <td>NaN</td>\n",
       "    </tr>\n",
       "  </tbody>\n",
       "</table>\n",
       "<p>5 rows × 34 columns</p>\n",
       "</div>"
      ],
      "text/plain": [
       "                           title_x Genres original type streaming_x  runtime  \\\n",
       "24334     The Rise & Fall Of T-Rex    NaN      NaN  NaN         HBO      NaN   \n",
       "24335         The Norwegian Fjords    NaN      NaN  NaN         HBO      NaN   \n",
       "24336    Mystery Signal From Space    NaN      NaN  NaN         HBO      NaN   \n",
       "24337  Top Science Stories of 2019    NaN      NaN  NaN         HBO      NaN   \n",
       "24338             What Animals See    NaN      NaN  NaN         HBO      NaN   \n",
       "\n",
       "      action sports thrillers_horror comedy  ... fantasy regional country  \\\n",
       "24334    NaN    NaN              NaN    NaN  ...     NaN      NaN     NaN   \n",
       "24335    NaN    NaN              NaN    NaN  ...     NaN      NaN     NaN   \n",
       "24336    NaN    NaN              NaN    NaN  ...     NaN      NaN     NaN   \n",
       "24337    NaN    NaN              NaN    NaN  ...     NaN      NaN     NaN   \n",
       "24338    NaN    NaN              NaN    NaN  ...     NaN      NaN     NaN   \n",
       "\n",
       "       title2 title_y    year age_group imdb rotten_tomato streaming_y  \n",
       "24334    None     NaN  2015.0       NaN  NaN           NaN         NaN  \n",
       "24335    None     NaN  2018.0       NaN  NaN           NaN         NaN  \n",
       "24336  signal     NaN  2018.0       NaN  NaN           NaN         NaN  \n",
       "24337    None     NaN  2019.0       NaN  NaN           NaN         NaN  \n",
       "24338    None     NaN  2018.0       NaN  NaN           NaN         NaN  \n",
       "\n",
       "[5 rows x 34 columns]"
      ]
     },
     "execution_count": 84,
     "metadata": {},
     "output_type": "execute_result"
    }
   ],
   "source": [
    "df_merge.tail()"
   ]
  },
  {
   "cell_type": "markdown",
   "metadata": {},
   "source": [
    "### 3.xx Dropping duplicates from the merged dataset"
   ]
  },
  {
   "cell_type": "code",
   "execution_count": 85,
   "metadata": {},
   "outputs": [],
   "source": [
    "# Number of duplicates\n",
    "df_merge.duplicated(subset=['title_x','type','streaming_x', 'streaming_y']).sum()\n",
    "\n",
    "df_merge.drop_duplicates(subset=['title_x','type', 'streaming_x', 'streaming_y'], inplace= True)"
   ]
  },
  {
   "cell_type": "code",
   "execution_count": 86,
   "metadata": {},
   "outputs": [],
   "source": [
    "# resetting the index to prevent duplicate indexing\n",
    "df_merge.reset_index(inplace= True)\n",
    "df_merge.drop(columns='index', inplace= True)"
   ]
  },
  {
   "cell_type": "code",
   "execution_count": 87,
   "metadata": {},
   "outputs": [],
   "source": [
    "df_merge.to_csv(r'C:\\Users\\srini\\Projects\\Online Streaming\\df_merge.csv', index= False)"
   ]
  },
  {
   "cell_type": "code",
   "execution_count": 91,
   "metadata": {},
   "outputs": [
    {
     "data": {
      "text/plain": [
       "Netflix    6845\n",
       "Amazon     5824\n",
       "HBO        2002\n",
       "Disney     1121\n",
       "Name: streaming_x, dtype: int64"
      ]
     },
     "execution_count": 91,
     "metadata": {},
     "output_type": "execute_result"
    }
   ],
   "source": [
    "df_merge.streaming_x.value_counts()"
   ]
  },
  {
   "cell_type": "markdown",
   "metadata": {},
   "source": [
    "## 4. Exploratory Data Analysis\n",
    "We will be visualizing the data to find any trends in it."
   ]
  },
  {
   "cell_type": "code",
   "execution_count": 119,
   "metadata": {},
   "outputs": [
    {
     "data": {
      "image/png": "[encoded data removed]",
      "text/plain": [
       "<Figure size 576x576 with 4 Axes>"
      ]
     },
     "metadata": {
      "needs_background": "light"
     },
     "output_type": "display_data"
    }
   ],
   "source": [
    "# Comparing how old the content is among all the streaming platforms\n",
    "\n",
    "plt.figure(figsize=(8,8))\n",
    "stream_list= ['Netflix','Amazon', 'Disney', 'HBO']\n",
    "color_list = ['tab:red','tab:blue','tab:orange','tab:green' ]\n",
    "\n",
    "for i in range(4):\n",
    "    plt.subplot(4,1,i+1)\n",
    "    \n",
    "    series= df_merge[df_merge['streaming_x']==stream_list[i]]['year']\n",
    "    \n",
    "    my_bin= int((max(series)-min(series))//5)\n",
    "    \n",
    "    plt.hist(series, color=color_list[i], alpha=0.6, label= stream_list[i], bins= my_bin,  )\n",
    "    plt.axvline(np.mean(series), color=color_list[i], linestyle='--', alpha=1 )\n",
    "    plt.legend()\n",
    "    \n",
    "    plt.xlim(1960,2020)\n",
    "    plt.xticks(range(1960,2021,5))\n",
    "    \n",
    "    if i==0:\n",
    "        plt.title('Age of content across the platforms \\n (dotted lines are mean values)')\n",
    "    plt.xlabel('Year content was published')\n",
    "    plt.ylabel('Frequency')\n",
    "\n",
    "plt.tight_layout()\n",
    "plt.show()"
   ]
  },
  {
   "cell_type": "code",
   "execution_count": 118,
   "metadata": {},
   "outputs": [
    {
     "data": {
      "image/png": "[encoded data removed]",
      "text/plain": [
       "<Figure size 576x576 with 4 Axes>"
      ]
     },
     "metadata": {
      "needs_background": "light"
     },
     "output_type": "display_data"
    }
   ],
   "source": [
    "# Comparing imdb ratings among all the streaming platforms\n",
    "\n",
    "plt.figure(figsize=(8,8))\n",
    "stream_list= ['Netflix','Amazon', 'Disney', 'HBO']\n",
    "color_list = ['tab:red','tab:blue','tab:orange','tab:green' ]\n",
    "\n",
    "for i in range(4):\n",
    "    plt.subplot(4,1,i+1)\n",
    "    \n",
    "    series= df_merge[df_merge['streaming_x']==stream_list[i]]['imdb']\n",
    "    my_bin= np.arange(10)\n",
    "    \n",
    "    plt.hist(series, color=color_list[i], alpha=0.6, label= stream_list[i], bins= my_bin,  )\n",
    "    plt.axvline(np.mean(series), color=color_list[i], linestyle='--', alpha=1 )\n",
    "    plt.legend()\n",
    "    plt.xlim(0,11)\n",
    "    plt.xticks(range(0,11,1))\n",
    "    \n",
    "    if i==0:\n",
    "        plt.title('IMDB rating for content across platforms \\n (dotted lines are mean values)')\n",
    "    plt.xlabel('IMDB rating')\n",
    "    plt.ylabel('Frequency')\n",
    "\n",
    "plt.tight_layout()\n",
    "plt.show()"
   ]
  },
  {
   "cell_type": "code",
   "execution_count": 120,
   "metadata": {},
   "outputs": [
    {
     "data": {
      "image/png": "[encoded data removed]",
      "text/plain": [
       "<Figure size 576x576 with 4 Axes>"
      ]
     },
     "metadata": {
      "needs_background": "light"
     },
     "output_type": "display_data"
    }
   ],
   "source": [
    "# Comparing rotten_tomato ratings among all the streaming platforms\n",
    "\n",
    "plt.figure(figsize=(8,8))\n",
    "\n",
    "stream_list= ['Netflix','Amazon', 'Disney', 'HBO']\n",
    "color_list = ['tab:red','tab:blue','tab:orange','tab:green' ]\n",
    "\n",
    "for i in range(4):\n",
    "    plt.subplot(4,1,i+1)\n",
    "    \n",
    "    series= df_merge[df_merge['streaming_x']==stream_list[i]]['rotten_tomato']\n",
    "    my_bin= range(0,100,10)\n",
    "    \n",
    "    plt.hist(series, color=color_list[i], alpha=0.6, label= stream_list[i], bins= my_bin  )\n",
    "    plt.axvline(np.mean(series), color=color_list[i], linestyle='--', alpha= 1 )\n",
    "    plt.legend()\n",
    "    plt.xlim(0,101)\n",
    "    plt.xticks(range(0,101,10))\n",
    "    \n",
    "    if i==0:\n",
    "        plt.title('Rotten Tomato rating for content across platforms \\n (dotted lines are mean values)')\n",
    "    plt.xlabel('Rotten Tomato rating')\n",
    "    plt.ylabel('Frequency')\n",
    "\n",
    "plt.tight_layout()\n",
    "plt.show()"
   ]
  },
  {
   "cell_type": "code",
   "execution_count": 112,
   "metadata": {},
   "outputs": [
    {
     "data": {
      "image/png": "[encoded data removed]",
      "text/plain": [
       "<Figure size 432x288 with 1 Axes>"
      ]
     },
     "metadata": {
      "needs_background": "light"
     },
     "output_type": "display_data"
    }
   ],
   "source": [
    "# Correlation between year of content and IMDB rating\n",
    "plt.scatter(x=df_merge.year, y= df_merge.imdb,marker= 'x',alpha=0.4 )\n",
    "plt.xlabel('Year of release')\n",
    "plt.ylabel('IMDB rating')\n",
    "plt.title('Year of release vs IMDB rating')\n",
    "plt.show()"
   ]
  },
  {
   "cell_type": "code",
   "execution_count": 113,
   "metadata": {},
   "outputs": [
    {
     "data": {
      "image/png": "[encoded data removed]",
      "text/plain": [
       "<Figure size 432x288 with 1 Axes>"
      ]
     },
     "metadata": {
      "needs_background": "light"
     },
     "output_type": "display_data"
    }
   ],
   "source": [
    "# Correlation between year of content and Rotten Tomato rating\n",
    "plt.scatter(x=df_merge.rotten_tomato, y= df_merge.imdb,marker= 'x', alpha=0.5 )\n",
    "plt.xlabel('Rotten Tomato rating')\n",
    "plt.ylabel('IMDB rating')\n",
    "plt.title('Rotten Tomato vs IMDB rating')\n",
    "plt.show()"
   ]
  },
  {
   "cell_type": "code",
   "execution_count": 114,
   "metadata": {},
   "outputs": [
    {
     "data": {
      "image/png": "[encoded data removed]",
      "text/plain": [
       "<Figure size 432x288 with 1 Axes>"
      ]
     },
     "metadata": {
      "needs_background": "light"
     },
     "output_type": "display_data"
    }
   ],
   "source": [
    "# Number of titles in each age group\n",
    "age_plot= df_merge.groupby(by=['age_group','streaming_x']).count()['title_x'].reset_index()\n",
    "\n",
    "sns.barplot(x=age_plot.age_group, y= age_plot.title_x, hue= age_plot.streaming_x, order=['all','7+','13+','16+','18+'])\n",
    "plt.grid(alpha=0.3,linestyle='--', axis= 'y' )\n",
    "plt.legend()\n",
    "plt.xlabel('Age Group')\n",
    "plt.ylabel('Number of titles')\n",
    "plt.title('Number of titles in each age group')\n",
    "plt.show()"
   ]
  },
  {
   "cell_type": "code",
   "execution_count": 121,
   "metadata": {},
   "outputs": [
    {
     "data": {
      "image/png": "[encoded data removed]",
      "text/plain": [
       "<Figure size 432x288 with 1 Axes>"
      ]
     },
     "metadata": {
      "needs_background": "light"
     },
     "output_type": "display_data"
    }
   ],
   "source": [
    "# Correlation between year and duration of movie\n",
    "plt.scatter(x=df_merge.year, y= df_merge.runtime, marker= 'x', alpha=0.5 )\n",
    "plt.xlabel('Year rating')\n",
    "plt.ylabel('Movie Duration')\n",
    "plt.title('Are length of movies getting shorter nowdays?')\n",
    "plt.show()"
   ]
  },
  {
   "cell_type": "code",
   "execution_count": 190,
   "metadata": {},
   "outputs": [
    {
     "data": {
      "image/png": "[encoded data removed]",
      "text/plain": [
       "<Figure size 576x432 with 1 Axes>"
      ]
     },
     "metadata": {
      "needs_background": "light"
     },
     "output_type": "display_data"
    }
   ],
   "source": [
    "# Top online shows based on IMDB rating\n",
    "imdb_top =df_merge.sort_values(by=['imdb'],ascending= False).query('rotten_tomato>=0').head(10)\n",
    "color_dic= {'Netflix':'tab:red','Amazon':'tab:blue', 'Disney':'tab:orange', 'HBO':'tab:green'}\n",
    "\n",
    "plt.figure(figsize=(8,6))\n",
    "\n",
    "#plt.barh(width= imdb_top.imdb , y= imdb_top.title_x , color=imdb_top.streaming_x.apply(lambda x: color_dic[x]), )\n",
    "sns.barplot(x=imdb_top.imdb,y= imdb_top.title_x, hue=imdb_top.streaming_x, dodge= False, palette=['tab:red', 'tab:green'])\n",
    "plt.grid(linestyle='--', alpha=0.3, axis='x')\n",
    "plt.xticks(range(11))\n",
    "plt.xlabel('IMDB rating')\n",
    "plt.ylabel('Show Title')\n",
    "plt.title('Top shows on Netflix, Amazon, Disney, HBO')\n",
    "plt.legend(loc=(1.05,0.85))\n",
    "plt.show()"
   ]
  },
  {
   "cell_type": "code",
   "execution_count": 140,
   "metadata": {},
   "outputs": [
    {
     "data": {
      "image/png": "[encoded data removed]",
      "text/plain": [
       "<Figure size 432x288 with 1 Axes>"
      ]
     },
     "metadata": {
      "needs_background": "light"
     },
     "output_type": "display_data"
    }
   ],
   "source": [
    "# Netflix original production over years\n",
    "\n",
    "series= df_merge.query('original==True and streaming_x==\"Netflix\" and year>=2013').year.value_counts()\n",
    "sns.barplot(x= [int(x) for x in series.index] , y= series, color= 'tab:blue')\n",
    "plt.grid(linestyle='--', alpha=0.3, axis='y')\n",
    "plt.ylabel('Number of originals')\n",
    "plt.xlabel('Year of release')\n",
    "plt.title('Netflix original releases over years')\n",
    "plt.show()"
   ]
  },
  {
   "cell_type": "code",
   "execution_count": 154,
   "metadata": {},
   "outputs": [
    {
     "data": {
      "image/png": "[encoded data removed]",
      "text/plain": [
       "<Figure size 432x288 with 1 Axes>"
      ]
     },
     "metadata": {
      "needs_background": "light"
     },
     "output_type": "display_data"
    }
   ],
   "source": [
    "# Top 100 IMDB shows/ movies online\n",
    "\n",
    "series= df_merge.sort_values(by='imdb',ascending= False).query('rotten_tomato>=0').iloc[:100,:]['streaming_x'].value_counts()\n",
    "plt.bar(x= series.index, height=series, color = ['tab:red','tab:green','tab:blue','tab:orange'] )\n",
    "plt.xlabel('Streaming platform')\n",
    "plt.ylabel('Number of movies/ shows')\n",
    "plt.title('Top 100 IMDB movies/ TV shows online')\n",
    "plt.show()"
   ]
  },
  {
   "cell_type": "code",
   "execution_count": 175,
   "metadata": {},
   "outputs": [
    {
     "data": {
      "image/png": "[encoded data removed]",
      "text/plain": [
       "<Figure size 432x288 with 1 Axes>"
      ]
     },
     "metadata": {},
     "output_type": "display_data"
    }
   ],
   "source": [
    "# Top 100 IMDB shows/ movies online\n",
    "series= df_merge.sort_values(by='imdb',ascending= False).query('rotten_tomato>=0').iloc[:100,:]['streaming_x'].value_counts()\n",
    "\n",
    "plt.pie(series, colors= ['tab:red','tab:green','tab:blue','tab:orange'], \\\n",
    "        labels=[ x +':' + str(y)+'%' for x,y in zip(series.index, series)] )\n",
    "plt.title('Top 100 IMDB movies/ TV shows online')\n",
    "plt.show()"
   ]
  },
  {
   "cell_type": "code",
   "execution_count": null,
   "metadata": {},
   "outputs": [],
   "source": []
  },
  {
   "cell_type": "code",
   "execution_count": null,
   "metadata": {},
   "outputs": [],
   "source": []
  }
 ],
 "metadata": {
  "kernelspec": {
   "display_name": "Python 3",
   "language": "python",
   "name": "python3"
  },
  "language_info": {
   "codemirror_mode": {
    "name": "ipython",
    "version": 3
   },
   "file_extension": ".py",
   "mimetype": "text/x-python",
   "name": "python",
   "nbconvert_exporter": "python",
   "pygments_lexer": "ipython3",
   "version": "3.7.4"
  }
 },
 "nbformat": 4,
 "nbformat_minor": 2
}
