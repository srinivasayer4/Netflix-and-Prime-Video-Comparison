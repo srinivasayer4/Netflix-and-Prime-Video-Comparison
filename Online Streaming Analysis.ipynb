{
 "cells": [
  {
   "cell_type": "markdown",
   "metadata": {},
   "source": [
    "# Comparison of content between Netflix and Amazon Prime\n",
    "## 1. Introduction\n",
    "The online streaming domain has been heating up with the entry of Disney+, Apple, HBO Max and NBC Peacock. However, Netflix remains the biggest player in the market with Amazon Prime Video trailing behind it. \n",
    "\n",
    "In this project I have compared the content between Amazon and Netflix to gather insights into this online streaming war."
   ]
  },
  {
   "cell_type": "code",
   "execution_count": 1,
   "metadata": {},
   "outputs": [],
   "source": [
    "import requests\n",
    "import pandas as pd\n",
    "import numpy as np\n",
    "import matplotlib.pyplot as plt\n",
    "from bs4 import BeautifulSoup\n",
    "import seaborn as sns\n",
    "import json\n",
    "import time"
   ]
  },
  {
   "cell_type": "markdown",
   "metadata": {},
   "source": [
    "## Data Gathering\n",
    "The catalog for both Amazon Prime Video and Netflix have been scraped from reelgood.com which is an online streaming aggregator and helps one watch all the online content in one place. <br>\n",
    "The genre of the TV shows and movies have been scraped from Finder.com which is a service used for comparing products such as cred cards, martgages."
   ]
  },
  {
   "cell_type": "code",
   "execution_count": 22,
   "metadata": {},
   "outputs": [
    {
     "name": "stdout",
     "output_type": "stream",
     "text": [
      "0,50,100,150,200,250,300,350,400,450,500,550,600,650,700,750,800,850,900,950,1000,1050,1100,1150,1200,1250,1300,1350,1400,1450,1500,1550,1600,1650,1700,1750,1800,1850,1900,1950,2000,2050,2100,2150,2200,2250,2300,2350,2400,2450,2500,2550,2600,2650,2700,2750,2800,2850,2900,2950,3000,3050,3100,3150,3200,3250,3300,3350,3400,3450,3500,3550,3600,3650,3700,3750,3800,3850,3900,3950,4000,4050,4100,4150,4200,4250,4300,4350,4400,4450,4500,4550,4600,4650,4700,4750,4800,4850,4900,4950,5000,5050,5100,5150,5200,5250,5300,5350,5400,5450,5500,5550,5600,5650,5700,5750,5800,2185.0 s\n"
     ]
    },
    {
     "data": {
      "text/plain": [
       "(5804, 5)"
      ]
     },
     "execution_count": 22,
     "metadata": {},
     "output_type": "execute_result"
    }
   ],
   "source": [
    "# Extracting the Netflix content from reelgood.com using Beautiful Soup\n",
    "start= time.time()\n",
    "\n",
    "for page in range(0,5801,50): # List of all the pages in the website\n",
    "    \n",
    "    print(page, end=',') # for telling the status of the current iteration\n",
    "    \n",
    "    time.sleep(np.random.randint(5,25))\n",
    "    \n",
    "    try:\n",
    "        \n",
    "        # URL for the reelgood website\n",
    "        url = 'https://reelgood.com/source/netflix?offset='+str(page)\n",
    "\n",
    "        # Extracting the HTML elements with Beautiful soup\n",
    "        response= requests.get(url)\n",
    "        soup = BeautifulSoup(response.content, 'html.parser' )\n",
    "\n",
    "        # Finding the number of titles in the extracted page\n",
    "        page_length= len(soup.find_all('td', class_=\"css-1u7zfla e126mwsw1\"))\n",
    "\n",
    "        # Initiating empty lists to make the dataframe\n",
    "        title= []\n",
    "        year = []\n",
    "        age_group= []\n",
    "        imdb= []\n",
    "        rt=[]\n",
    "\n",
    "        for i in range(page_length):\n",
    "            # extracting the title from the soup element\n",
    "            title.append(soup.find_all('td', class_=\"css-1u7zfla e126mwsw1\")[i].find('a').contents[0])\n",
    "            \n",
    "            # extracting the year information from the soup element\n",
    "            year.append(soup.find_all('td', class_=\"css-1u11l3y\")[4*i].contents[0])\n",
    "            \n",
    "            # extracting the age group detail from the soup element\n",
    "            age_group.append(soup.find_all('td', class_=\"css-1u11l3y\")[4*i+1].contents[0])\n",
    "            \n",
    "            # extracting the imdb rating from the soup element\n",
    "            imdb.append(soup.find_all('td', class_=\"css-1u11l3y\")[4*i+2].contents[0])\n",
    "            \n",
    "            # extracting the rotten tomatoes rating from the soup element\n",
    "            rt.append(soup.find_all('td', class_=\"css-1u11l3y\")[4*i+3].contents[0])\n",
    "            \n",
    "            # forming a dataframe for each iteration\n",
    "            df_temp = pd.DataFrame({'title':title,'year':year,'age_group':age_group, 'imdb':imdb,'rotten_tomato':rt} )\n",
    "\n",
    "        if page==0:\n",
    "            df = df_temp\n",
    "            \n",
    "        else:\n",
    "            df = pd.concat([df, df_temp]) # appending the dataframe for each iteration\n",
    "            \n",
    "    except:\n",
    "        print('Error on page:',page)\n",
    "        continue\n",
    "\n",
    "end= time.time()\n",
    "\n",
    "print(round(end-start,0),'s')\n",
    "df.shape"
   ]
  },
  {
   "cell_type": "code",
   "execution_count": 23,
   "metadata": {},
   "outputs": [],
   "source": [
    "#Exporting the data to local hard drive\n",
    "df.to_csv(r'C:\\Users\\srini\\Projects\\Online Streaming\\netflix_shows.csv', index=False)"
   ]
  },
  {
   "cell_type": "code",
   "execution_count": 27,
   "metadata": {},
   "outputs": [
    {
     "name": "stdout",
     "output_type": "stream",
     "text": [
      "0,50,100,150,200,250,300,350,400,450,500,550,600,650,700,750,800,850,900,950,1000,1050,1100,1150,1200,1250,1300,1350,1400,1450,1500,1550,1600,1650,1700,1750,1800,1850,1900,1950,2000,2050,2100,2150,2200,2250,2300,2350,2400,2450,2500,2550,2600,2650,2700,2750,2800,2850,2900,2950,3000,3050,3100,3150,3200,3250,3300,3350,3400,3450,3500,3550,3600,3650,3700,3750,3800,3850,3900,3950,4000,4050,4100,4150,4200,4250,4300,4350,4400,4450,4500,4550,4600,4650,4700,4750,4800,4850,4900,4950,5000,5050,5100,5150,5200,5250,5300,5350,5400,5450,5500,5550,5600,5650,5700,5750,5800,5850,5900,5950,6000,6050,6100,6150,6200,6250,6300,6350,6400,6450,6500,6550,6600,6650,6700,6750,6800,6850,6900,6950,7000,7050,7100,7150,7200,7250,7300,7350,7400,7450,7500,7550,7600,7650,7700,7750,7800,7850,7900,7950,8000,8050,8100,8150,8200,8250,8300,8350,8400,8450,8500,8550,8600,8650,8700,8750,8800,8850,8900,8950,9000,9050,9100,9150,9200,9250,9300,9350,9400,9450,9500,9550,9600,9650,9700,9750,9800,9850,9900,9950,10000,10050,10100,10150,10200,10250,10300,10350,10400,10450,10500,10550,10600,10650,10700,10750,10800,10850,10900,10950,11000,11050,11100,11150,11200,11250,11300,11350,11400,11450,11500,11550,11600,11650,11700,11750,11800,11850,11900,11950,12000,12050,12100,12150,12200,12250,12300,12350,12400,12450,12500,12550,12600,12650,12700,12750,12800,12850,12900,12950,13000,13050,13100,13150,13200,13250,13300,13350,13400,13450,13500,13550,13600,13650,13700,13750,13800,13850,13900,13950,14000,14050,14100,14150,14200,14250,14300,14350,14400,14450,14500,14550,14600,14650,14700,14750,14800,14850,14900,14950,15000,15050,15100,15150,15200,15250,15300,15350,15400,15450,15500,15550,15600,15650,4574.0 s\n"
     ]
    }
   ],
   "source": [
    "start= time.time()\n",
    "\n",
    "for page in range(0,15651,50): # List of all the pages in the website\n",
    "    \n",
    "    print(page, end=',')\n",
    "    \n",
    "    time.sleep(np.random.randint(8,14))\n",
    "    \n",
    "    try:\n",
    "        \n",
    "        # URL for the reelgood website\n",
    "        url = 'https://reelgood.com/source/amazon?offset='+str(page)\n",
    "\n",
    "        # Extracting the HTML elements with Beautiful soup\n",
    "        response= requests.get(url)\n",
    "        soup = BeautifulSoup(response.content, 'html.parser' )\n",
    "\n",
    "        # Finding the number of titles in the extracted page\n",
    "        page_length= len(soup.find_all('td', class_=\"css-1u7zfla e126mwsw1\"))\n",
    "\n",
    "        # Initiating empty lists to make the dataframe\n",
    "        title= []\n",
    "        year = []\n",
    "        age_group= []\n",
    "        imdb= []\n",
    "        rt=[]\n",
    "\n",
    "        for i in range(page_length):\n",
    "            # extracting the title from the soup element\n",
    "            title.append(soup.find_all('td', class_=\"css-1u7zfla e126mwsw1\")[i].find('a').contents[0])\n",
    "            \n",
    "            # extracting the year information from the soup element\n",
    "            year.append(soup.find_all('td', class_=\"css-1u11l3y\")[4*i].contents[0])\n",
    "            \n",
    "            # extracting the age group detail from the soup element\n",
    "            age_group.append(soup.find_all('td', class_=\"css-1u11l3y\")[4*i+1].contents[0])\n",
    "            \n",
    "            # extracting the imdb rating from the soup element\n",
    "            imdb.append(soup.find_all('td', class_=\"css-1u11l3y\")[4*i+2].contents[0])\n",
    "            \n",
    "            # extracting the rotten tomatoes rating from the soup element\n",
    "            rt.append(soup.find_all('td', class_=\"css-1u11l3y\")[4*i+3].contents[0])\n",
    "            \n",
    "            # forming a dataframe for each iteration\n",
    "            df_temp = pd.DataFrame({'title':title,'year':year,'age_group':age_group, 'imdb':imdb,'rotten_tomato':rt} )\n",
    "\n",
    "        if page==0:\n",
    "            df = df_temp\n",
    "            \n",
    "        else:\n",
    "            df = pd.concat([df, df_temp])\n",
    "            \n",
    "    except:\n",
    "        print('Error on page:',page)\n",
    "        continue\n",
    "\n",
    "end= time.time()\n",
    "\n",
    "print(round(end-start,0),'s')\n",
    "df.shape\n",
    "\n",
    "#Exporting the data to local hard drive\n",
    "df.to_csv(r'C:\\Users\\srini\\Projects\\Online Streaming\\amazon.csv', index=False)"
   ]
  },
  {
   "cell_type": "code",
   "execution_count": 28,
   "metadata": {},
   "outputs": [],
   "source": [
    "#Returns the movie/tv show genre and other details from finder.com\n",
    "\n",
    "def genre_extract(url):\n",
    "    \"\"\" Returns the movie/tv show genre and other details from finder.com\n",
    "    args- url of finder.com\n",
    "    output: dataframe with the movie/tv show information\"\"\"\n",
    "    response= requests.get(url)\n",
    "    return pd.read_html(response.content)[0]"
   ]
  },
  {
   "cell_type": "code",
   "execution_count": 29,
   "metadata": {},
   "outputs": [],
   "source": [
    "# Extracting information for Netflix TV shows\n",
    "df_netflix_tv= genre_extract('https://www.finder.com/netflix-tv-shows')\n",
    "\n",
    "# Extracting information for Netflix movies\n",
    "df_netflix_movie = genre_extract('https://www.finder.com/netflix-movies')\n",
    "\n",
    "# Extracting information for Amazon Movies\n",
    "df_amazon_movie = genre_extract('https://www.finder.com/amazon-prime-movies')\n",
    "\n",
    "# Extracting information for Amazon TV shows\n",
    "df_amazon_tv = genre_extract('https://www.finder.com/amazon-prime-tv-shows')"
   ]
  },
  {
   "cell_type": "markdown",
   "metadata": {},
   "source": [
    "## 3. Data Wrangling\n",
    "### 3.1 Merging dataframes\n",
    "Combining Netflix and Amazon into a common dataframe to help with analysis"
   ]
  },
  {
   "cell_type": "code",
   "execution_count": 30,
   "metadata": {},
   "outputs": [],
   "source": [
    "# Retriving the data from local hard drive\n",
    "df_netflix= pd.read_csv(r'C:\\Users\\srini\\Projects\\Online Streaming\\netflix_shows.csv')\n",
    "df_amazon= pd.read_csv(r'C:\\Users\\srini\\Projects\\Online Streaming\\amazon.csv')"
   ]
  },
  {
   "cell_type": "code",
   "execution_count": 31,
   "metadata": {},
   "outputs": [
    {
     "data": {
      "text/html": [
       "<div>\n",
       "<style scoped>\n",
       "    .dataframe tbody tr th:only-of-type {\n",
       "        vertical-align: middle;\n",
       "    }\n",
       "\n",
       "    .dataframe tbody tr th {\n",
       "        vertical-align: top;\n",
       "    }\n",
       "\n",
       "    .dataframe thead th {\n",
       "        text-align: right;\n",
       "    }\n",
       "</style>\n",
       "<table border=\"1\" class=\"dataframe\">\n",
       "  <thead>\n",
       "    <tr style=\"text-align: right;\">\n",
       "      <th></th>\n",
       "      <th>title</th>\n",
       "      <th>year</th>\n",
       "      <th>age_group</th>\n",
       "      <th>imdb</th>\n",
       "      <th>rotten_tomato</th>\n",
       "    </tr>\n",
       "  </thead>\n",
       "  <tbody>\n",
       "    <tr>\n",
       "      <td>0</td>\n",
       "      <td>Breaking Bad</td>\n",
       "      <td>2008</td>\n",
       "      <td>18+</td>\n",
       "      <td>9.5</td>\n",
       "      <td>96%</td>\n",
       "    </tr>\n",
       "    <tr>\n",
       "      <td>1</td>\n",
       "      <td>Inception</td>\n",
       "      <td>2010</td>\n",
       "      <td>13+</td>\n",
       "      <td>8.8</td>\n",
       "      <td>87%</td>\n",
       "    </tr>\n",
       "    <tr>\n",
       "      <td>2</td>\n",
       "      <td>Back to the Future</td>\n",
       "      <td>1985</td>\n",
       "      <td>7+</td>\n",
       "      <td>8.5</td>\n",
       "      <td>96%</td>\n",
       "    </tr>\n",
       "    <tr>\n",
       "      <td>3</td>\n",
       "      <td>The Matrix</td>\n",
       "      <td>1999</td>\n",
       "      <td>18+</td>\n",
       "      <td>8.7</td>\n",
       "      <td>88%</td>\n",
       "    </tr>\n",
       "    <tr>\n",
       "      <td>4</td>\n",
       "      <td>The Silence of the Lambs</td>\n",
       "      <td>1991</td>\n",
       "      <td>18+</td>\n",
       "      <td>8.6</td>\n",
       "      <td>96%</td>\n",
       "    </tr>\n",
       "  </tbody>\n",
       "</table>\n",
       "</div>"
      ],
      "text/plain": [
       "                      title  year age_group  imdb rotten_tomato\n",
       "0              Breaking Bad  2008       18+   9.5           96%\n",
       "1                 Inception  2010       13+   8.8           87%\n",
       "2        Back to the Future  1985        7+   8.5           96%\n",
       "3                The Matrix  1999       18+   8.7           88%\n",
       "4  The Silence of the Lambs  1991       18+   8.6           96%"
      ]
     },
     "execution_count": 31,
     "metadata": {},
     "output_type": "execute_result"
    }
   ],
   "source": [
    "df_netflix.head()"
   ]
  },
  {
   "cell_type": "code",
   "execution_count": 33,
   "metadata": {},
   "outputs": [],
   "source": [
    "# Adding a column to indicate the streaming platform\n",
    "df_netflix['streaming']= 'Netflix'\n",
    "df_amazon['streaming']= 'Amazon'"
   ]
  },
  {
   "cell_type": "code",
   "execution_count": 34,
   "metadata": {},
   "outputs": [
    {
     "data": {
      "text/html": [
       "<div>\n",
       "<style scoped>\n",
       "    .dataframe tbody tr th:only-of-type {\n",
       "        vertical-align: middle;\n",
       "    }\n",
       "\n",
       "    .dataframe tbody tr th {\n",
       "        vertical-align: top;\n",
       "    }\n",
       "\n",
       "    .dataframe thead th {\n",
       "        text-align: right;\n",
       "    }\n",
       "</style>\n",
       "<table border=\"1\" class=\"dataframe\">\n",
       "  <thead>\n",
       "    <tr style=\"text-align: right;\">\n",
       "      <th></th>\n",
       "      <th>title</th>\n",
       "      <th>year</th>\n",
       "      <th>age_group</th>\n",
       "      <th>imdb</th>\n",
       "      <th>rotten_tomato</th>\n",
       "      <th>streaming</th>\n",
       "    </tr>\n",
       "  </thead>\n",
       "  <tbody>\n",
       "    <tr>\n",
       "      <td>0</td>\n",
       "      <td>The Silence of the Lambs</td>\n",
       "      <td>1991</td>\n",
       "      <td>18+</td>\n",
       "      <td>8.6</td>\n",
       "      <td>96%</td>\n",
       "      <td>Amazon</td>\n",
       "    </tr>\n",
       "    <tr>\n",
       "      <td>1</td>\n",
       "      <td>The Good, the Bad and the Ugly</td>\n",
       "      <td>1966</td>\n",
       "      <td>18+</td>\n",
       "      <td>8.8</td>\n",
       "      <td>97%</td>\n",
       "      <td>Amazon</td>\n",
       "    </tr>\n",
       "    <tr>\n",
       "      <td>2</td>\n",
       "      <td>The Pianist</td>\n",
       "      <td>2002</td>\n",
       "      <td>18+</td>\n",
       "      <td>8.5</td>\n",
       "      <td>95%</td>\n",
       "      <td>Amazon</td>\n",
       "    </tr>\n",
       "    <tr>\n",
       "      <td>3</td>\n",
       "      <td>The Avengers</td>\n",
       "      <td>2012</td>\n",
       "      <td>13+</td>\n",
       "      <td>8.0</td>\n",
       "      <td>92%</td>\n",
       "      <td>Amazon</td>\n",
       "    </tr>\n",
       "    <tr>\n",
       "      <td>4</td>\n",
       "      <td>Knives Out</td>\n",
       "      <td>2019</td>\n",
       "      <td>13+</td>\n",
       "      <td>7.9</td>\n",
       "      <td>97%</td>\n",
       "      <td>Amazon</td>\n",
       "    </tr>\n",
       "  </tbody>\n",
       "</table>\n",
       "</div>"
      ],
      "text/plain": [
       "                            title  year age_group  imdb rotten_tomato  \\\n",
       "0        The Silence of the Lambs  1991       18+   8.6           96%   \n",
       "1  The Good, the Bad and the Ugly  1966       18+   8.8           97%   \n",
       "2                     The Pianist  2002       18+   8.5           95%   \n",
       "3                    The Avengers  2012       13+   8.0           92%   \n",
       "4                      Knives Out  2019       13+   7.9           97%   \n",
       "\n",
       "  streaming  \n",
       "0    Amazon  \n",
       "1    Amazon  \n",
       "2    Amazon  \n",
       "3    Amazon  \n",
       "4    Amazon  "
      ]
     },
     "execution_count": 34,
     "metadata": {},
     "output_type": "execute_result"
    }
   ],
   "source": [
    "df_amazon.head()"
   ]
  },
  {
   "cell_type": "code",
   "execution_count": 35,
   "metadata": {},
   "outputs": [
    {
     "data": {
      "text/html": [
       "<div>\n",
       "<style scoped>\n",
       "    .dataframe tbody tr th:only-of-type {\n",
       "        vertical-align: middle;\n",
       "    }\n",
       "\n",
       "    .dataframe tbody tr th {\n",
       "        vertical-align: top;\n",
       "    }\n",
       "\n",
       "    .dataframe thead th {\n",
       "        text-align: right;\n",
       "    }\n",
       "</style>\n",
       "<table border=\"1\" class=\"dataframe\">\n",
       "  <thead>\n",
       "    <tr style=\"text-align: right;\">\n",
       "      <th></th>\n",
       "      <th>title</th>\n",
       "      <th>year</th>\n",
       "      <th>age_group</th>\n",
       "      <th>imdb</th>\n",
       "      <th>rotten_tomato</th>\n",
       "      <th>streaming</th>\n",
       "    </tr>\n",
       "  </thead>\n",
       "  <tbody>\n",
       "    <tr>\n",
       "      <td>0</td>\n",
       "      <td>Breaking Bad</td>\n",
       "      <td>2008</td>\n",
       "      <td>18+</td>\n",
       "      <td>9.5</td>\n",
       "      <td>96%</td>\n",
       "      <td>Netflix</td>\n",
       "    </tr>\n",
       "    <tr>\n",
       "      <td>1</td>\n",
       "      <td>Inception</td>\n",
       "      <td>2010</td>\n",
       "      <td>13+</td>\n",
       "      <td>8.8</td>\n",
       "      <td>87%</td>\n",
       "      <td>Netflix</td>\n",
       "    </tr>\n",
       "    <tr>\n",
       "      <td>2</td>\n",
       "      <td>Back to the Future</td>\n",
       "      <td>1985</td>\n",
       "      <td>7+</td>\n",
       "      <td>8.5</td>\n",
       "      <td>96%</td>\n",
       "      <td>Netflix</td>\n",
       "    </tr>\n",
       "    <tr>\n",
       "      <td>3</td>\n",
       "      <td>The Matrix</td>\n",
       "      <td>1999</td>\n",
       "      <td>18+</td>\n",
       "      <td>8.7</td>\n",
       "      <td>88%</td>\n",
       "      <td>Netflix</td>\n",
       "    </tr>\n",
       "    <tr>\n",
       "      <td>4</td>\n",
       "      <td>The Silence of the Lambs</td>\n",
       "      <td>1991</td>\n",
       "      <td>18+</td>\n",
       "      <td>8.6</td>\n",
       "      <td>96%</td>\n",
       "      <td>Netflix</td>\n",
       "    </tr>\n",
       "  </tbody>\n",
       "</table>\n",
       "</div>"
      ],
      "text/plain": [
       "                      title  year age_group  imdb rotten_tomato streaming\n",
       "0              Breaking Bad  2008       18+   9.5           96%   Netflix\n",
       "1                 Inception  2010       13+   8.8           87%   Netflix\n",
       "2        Back to the Future  1985        7+   8.5           96%   Netflix\n",
       "3                The Matrix  1999       18+   8.7           88%   Netflix\n",
       "4  The Silence of the Lambs  1991       18+   8.6           96%   Netflix"
      ]
     },
     "execution_count": 35,
     "metadata": {},
     "output_type": "execute_result"
    }
   ],
   "source": [
    "# combining the dataframes\n",
    "df= pd.concat([df_netflix, df_amazon])\n",
    "df.head()"
   ]
  },
  {
   "cell_type": "code",
   "execution_count": 36,
   "metadata": {},
   "outputs": [
    {
     "data": {
      "text/plain": [
       "(21504, 6)"
      ]
     },
     "execution_count": 36,
     "metadata": {},
     "output_type": "execute_result"
    }
   ],
   "source": [
    "df.shape"
   ]
  },
  {
   "cell_type": "markdown",
   "metadata": {},
   "source": [
    "### 3.2 Finding duplicates\n"
   ]
  },
  {
   "cell_type": "code",
   "execution_count": 40,
   "metadata": {},
   "outputs": [
    {
     "data": {
      "text/plain": [
       "2"
      ]
     },
     "execution_count": 40,
     "metadata": {},
     "output_type": "execute_result"
    }
   ],
   "source": [
    "# finding duplicate values\n",
    "df.duplicated().sum()"
   ]
  },
  {
   "cell_type": "code",
   "execution_count": 41,
   "metadata": {},
   "outputs": [
    {
     "data": {
      "text/html": [
       "<div>\n",
       "<style scoped>\n",
       "    .dataframe tbody tr th:only-of-type {\n",
       "        vertical-align: middle;\n",
       "    }\n",
       "\n",
       "    .dataframe tbody tr th {\n",
       "        vertical-align: top;\n",
       "    }\n",
       "\n",
       "    .dataframe thead th {\n",
       "        text-align: right;\n",
       "    }\n",
       "</style>\n",
       "<table border=\"1\" class=\"dataframe\">\n",
       "  <thead>\n",
       "    <tr style=\"text-align: right;\">\n",
       "      <th></th>\n",
       "      <th>title</th>\n",
       "      <th>year</th>\n",
       "      <th>age_group</th>\n",
       "      <th>imdb</th>\n",
       "      <th>rotten_tomato</th>\n",
       "      <th>streaming</th>\n",
       "    </tr>\n",
       "  </thead>\n",
       "  <tbody>\n",
       "    <tr>\n",
       "      <td>3938</td>\n",
       "      <td>El día menos pensado</td>\n",
       "      <td>2020</td>\n",
       "      <td>NaN</td>\n",
       "      <td>7.3</td>\n",
       "      <td>NaN</td>\n",
       "      <td>Netflix</td>\n",
       "    </tr>\n",
       "    <tr>\n",
       "      <td>4612</td>\n",
       "      <td>Lucid Dream</td>\n",
       "      <td>2017</td>\n",
       "      <td>NaN</td>\n",
       "      <td>6.1</td>\n",
       "      <td>NaN</td>\n",
       "      <td>Netflix</td>\n",
       "    </tr>\n",
       "  </tbody>\n",
       "</table>\n",
       "</div>"
      ],
      "text/plain": [
       "                     title  year age_group  imdb rotten_tomato streaming\n",
       "3938  El día menos pensado  2020       NaN   7.3           NaN   Netflix\n",
       "4612           Lucid Dream  2017       NaN   6.1           NaN   Netflix"
      ]
     },
     "execution_count": 41,
     "metadata": {},
     "output_type": "execute_result"
    }
   ],
   "source": [
    "# finding duplicate values\n",
    "df[df.duplicated()]"
   ]
  },
  {
   "cell_type": "code",
   "execution_count": 43,
   "metadata": {},
   "outputs": [],
   "source": [
    "# removing the duplicate values\n",
    "df.drop_duplicates(inplace= True)"
   ]
  },
  {
   "cell_type": "code",
   "execution_count": 44,
   "metadata": {},
   "outputs": [
    {
     "data": {
      "text/plain": [
       "0"
      ]
     },
     "execution_count": 44,
     "metadata": {},
     "output_type": "execute_result"
    }
   ],
   "source": [
    "# Checking\n",
    "df.duplicated().sum()"
   ]
  },
  {
   "cell_type": "markdown",
   "metadata": {},
   "source": [
    "### 3.3 Resetting the index\n",
    "Since we concatenated 2 dataframes we need to remove the duplicate indices."
   ]
  },
  {
   "cell_type": "code",
   "execution_count": 48,
   "metadata": {},
   "outputs": [
    {
     "data": {
      "text/html": [
       "<div>\n",
       "<style scoped>\n",
       "    .dataframe tbody tr th:only-of-type {\n",
       "        vertical-align: middle;\n",
       "    }\n",
       "\n",
       "    .dataframe tbody tr th {\n",
       "        vertical-align: top;\n",
       "    }\n",
       "\n",
       "    .dataframe thead th {\n",
       "        text-align: right;\n",
       "    }\n",
       "</style>\n",
       "<table border=\"1\" class=\"dataframe\">\n",
       "  <thead>\n",
       "    <tr style=\"text-align: right;\">\n",
       "      <th></th>\n",
       "      <th>index</th>\n",
       "      <th>title</th>\n",
       "      <th>year</th>\n",
       "      <th>age_group</th>\n",
       "      <th>imdb</th>\n",
       "      <th>rotten_tomato</th>\n",
       "      <th>streaming</th>\n",
       "    </tr>\n",
       "  </thead>\n",
       "  <tbody>\n",
       "    <tr>\n",
       "      <td>0</td>\n",
       "      <td>0</td>\n",
       "      <td>Breaking Bad</td>\n",
       "      <td>2008</td>\n",
       "      <td>18+</td>\n",
       "      <td>9.5</td>\n",
       "      <td>96%</td>\n",
       "      <td>Netflix</td>\n",
       "    </tr>\n",
       "  </tbody>\n",
       "</table>\n",
       "</div>"
      ],
      "text/plain": [
       "   index         title  year age_group  imdb rotten_tomato streaming\n",
       "0      0  Breaking Bad  2008       18+   9.5           96%   Netflix"
      ]
     },
     "execution_count": 48,
     "metadata": {},
     "output_type": "execute_result"
    }
   ],
   "source": [
    "df.reset_index(inplace= True)\n",
    "df.head(1)"
   ]
  },
  {
   "cell_type": "code",
   "execution_count": 49,
   "metadata": {},
   "outputs": [
    {
     "data": {
      "text/html": [
       "<div>\n",
       "<style scoped>\n",
       "    .dataframe tbody tr th:only-of-type {\n",
       "        vertical-align: middle;\n",
       "    }\n",
       "\n",
       "    .dataframe tbody tr th {\n",
       "        vertical-align: top;\n",
       "    }\n",
       "\n",
       "    .dataframe thead th {\n",
       "        text-align: right;\n",
       "    }\n",
       "</style>\n",
       "<table border=\"1\" class=\"dataframe\">\n",
       "  <thead>\n",
       "    <tr style=\"text-align: right;\">\n",
       "      <th></th>\n",
       "      <th>title</th>\n",
       "      <th>year</th>\n",
       "      <th>age_group</th>\n",
       "      <th>imdb</th>\n",
       "      <th>rotten_tomato</th>\n",
       "      <th>streaming</th>\n",
       "    </tr>\n",
       "  </thead>\n",
       "  <tbody>\n",
       "    <tr>\n",
       "      <td>0</td>\n",
       "      <td>Breaking Bad</td>\n",
       "      <td>2008</td>\n",
       "      <td>18+</td>\n",
       "      <td>9.5</td>\n",
       "      <td>96%</td>\n",
       "      <td>Netflix</td>\n",
       "    </tr>\n",
       "  </tbody>\n",
       "</table>\n",
       "</div>"
      ],
      "text/plain": [
       "          title  year age_group  imdb rotten_tomato streaming\n",
       "0  Breaking Bad  2008       18+   9.5           96%   Netflix"
      ]
     },
     "execution_count": 49,
     "metadata": {},
     "output_type": "execute_result"
    }
   ],
   "source": [
    "df.drop(columns='index', inplace= True)\n",
    "df.head(1)"
   ]
  },
  {
   "cell_type": "markdown",
   "metadata": {},
   "source": [
    "### 3.4 Changing data type for  rotten tomatoes columns\n",
    "Changing the rotten tomatoes columns to float values."
   ]
  },
  {
   "cell_type": "code",
   "execution_count": 57,
   "metadata": {},
   "outputs": [],
   "source": [
    "def rt_float_extract(x):\n",
    "    \"\"\"Function to extract the digits from the Rotten Tomatoes column\n",
    "    Input: single rotten tomatoe rating value\n",
    "    Output: float value\"\"\"\n",
    "    try:\n",
    "        temp= float(x[:2])\n",
    "    except:\n",
    "        temp= np.nan\n",
    "    return temp"
   ]
  },
  {
   "cell_type": "code",
   "execution_count": 59,
   "metadata": {},
   "outputs": [],
   "source": [
    "# extracting the digits from the Rotten Tomatoes column\n",
    "df.rotten_tomato= df.rotten_tomato.apply(lambda x: rt_float_extract(x) )"
   ]
  },
  {
   "cell_type": "code",
   "execution_count": 60,
   "metadata": {},
   "outputs": [
    {
     "data": {
      "text/html": [
       "<div>\n",
       "<style scoped>\n",
       "    .dataframe tbody tr th:only-of-type {\n",
       "        vertical-align: middle;\n",
       "    }\n",
       "\n",
       "    .dataframe tbody tr th {\n",
       "        vertical-align: top;\n",
       "    }\n",
       "\n",
       "    .dataframe thead th {\n",
       "        text-align: right;\n",
       "    }\n",
       "</style>\n",
       "<table border=\"1\" class=\"dataframe\">\n",
       "  <thead>\n",
       "    <tr style=\"text-align: right;\">\n",
       "      <th></th>\n",
       "      <th>title</th>\n",
       "      <th>year</th>\n",
       "      <th>age_group</th>\n",
       "      <th>imdb</th>\n",
       "      <th>rotten_tomato</th>\n",
       "      <th>streaming</th>\n",
       "    </tr>\n",
       "  </thead>\n",
       "  <tbody>\n",
       "    <tr>\n",
       "      <td>0</td>\n",
       "      <td>Breaking Bad</td>\n",
       "      <td>2008</td>\n",
       "      <td>18+</td>\n",
       "      <td>9.5</td>\n",
       "      <td>96.0</td>\n",
       "      <td>Netflix</td>\n",
       "    </tr>\n",
       "    <tr>\n",
       "      <td>1</td>\n",
       "      <td>Inception</td>\n",
       "      <td>2010</td>\n",
       "      <td>13+</td>\n",
       "      <td>8.8</td>\n",
       "      <td>87.0</td>\n",
       "      <td>Netflix</td>\n",
       "    </tr>\n",
       "  </tbody>\n",
       "</table>\n",
       "</div>"
      ],
      "text/plain": [
       "          title  year age_group  imdb  rotten_tomato streaming\n",
       "0  Breaking Bad  2008       18+   9.5           96.0   Netflix\n",
       "1     Inception  2010       13+   8.8           87.0   Netflix"
      ]
     },
     "execution_count": 60,
     "metadata": {},
     "output_type": "execute_result"
    }
   ],
   "source": [
    "df.head(2)"
   ]
  },
  {
   "cell_type": "code",
   "execution_count": 61,
   "metadata": {},
   "outputs": [
    {
     "data": {
      "text/plain": [
       "array(['18+', '13+', '7+', '16+', nan, 'all'], dtype=object)"
      ]
     },
     "execution_count": 61,
     "metadata": {},
     "output_type": "execute_result"
    }
   ],
   "source": [
    "df.age_group.unique()"
   ]
  },
  {
   "cell_type": "code",
   "execution_count": null,
   "metadata": {},
   "outputs": [],
   "source": []
  }
 ],
 "metadata": {
  "kernelspec": {
   "display_name": "Python 3",
   "language": "python",
   "name": "python3"
  },
  "language_info": {
   "codemirror_mode": {
    "name": "ipython",
    "version": 3
   },
   "file_extension": ".py",
   "mimetype": "text/x-python",
   "name": "python",
   "nbconvert_exporter": "python",
   "pygments_lexer": "ipython3",
   "version": "3.7.4"
  }
 },
 "nbformat": 4,
 "nbformat_minor": 2
}
